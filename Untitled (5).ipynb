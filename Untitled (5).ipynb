{
 "cells": [
  {
   "cell_type": "code",
   "execution_count": 1,
   "id": "incorporate-transition",
   "metadata": {},
   "outputs": [],
   "source": [
    "import matplotlib.pyplot as plt\n",
    "import pandas as pd"
   ]
  },
  {
   "cell_type": "code",
   "execution_count": 2,
   "id": "fiscal-trout",
   "metadata": {},
   "outputs": [],
   "source": [
    "df=pd.read_csv('https://raw.githubusercontent.com/Latentview/Hackathon/main/Credit%20card%20fraud%20detection%20-%20updated%20Dataset.csv')"
   ]
  },
  {
   "cell_type": "code",
   "execution_count": 3,
   "id": "severe-narrative",
   "metadata": {},
   "outputs": [
    {
     "data": {
      "text/html": [
       "<div>\n",
       "<style scoped>\n",
       "    .dataframe tbody tr th:only-of-type {\n",
       "        vertical-align: middle;\n",
       "    }\n",
       "\n",
       "    .dataframe tbody tr th {\n",
       "        vertical-align: top;\n",
       "    }\n",
       "\n",
       "    .dataframe thead th {\n",
       "        text-align: right;\n",
       "    }\n",
       "</style>\n",
       "<table border=\"1\" class=\"dataframe\">\n",
       "  <thead>\n",
       "    <tr style=\"text-align: right;\">\n",
       "      <th></th>\n",
       "      <th>Unnamed: 0</th>\n",
       "      <th>trans_date_trans_time</th>\n",
       "      <th>cc_num</th>\n",
       "      <th>merchant</th>\n",
       "      <th>category</th>\n",
       "      <th>amt</th>\n",
       "      <th>first</th>\n",
       "      <th>last</th>\n",
       "      <th>gender</th>\n",
       "      <th>street</th>\n",
       "      <th>...</th>\n",
       "      <th>lat</th>\n",
       "      <th>long</th>\n",
       "      <th>city_pop</th>\n",
       "      <th>job</th>\n",
       "      <th>dob</th>\n",
       "      <th>trans_num</th>\n",
       "      <th>unix_time</th>\n",
       "      <th>merch_lat</th>\n",
       "      <th>merch_long</th>\n",
       "      <th>is_fraud</th>\n",
       "    </tr>\n",
       "  </thead>\n",
       "  <tbody>\n",
       "    <tr>\n",
       "      <th>0</th>\n",
       "      <td>0</td>\n",
       "      <td>6/21/2020 12:14</td>\n",
       "      <td>2291163933867240</td>\n",
       "      <td>fraud_Kirlin and Sons</td>\n",
       "      <td>personal_care</td>\n",
       "      <td>2.86</td>\n",
       "      <td>Jeff</td>\n",
       "      <td>Elliott</td>\n",
       "      <td>M</td>\n",
       "      <td>351 Darlene Green</td>\n",
       "      <td>...</td>\n",
       "      <td>33.9659</td>\n",
       "      <td>-80.9355</td>\n",
       "      <td>333497</td>\n",
       "      <td>Mechanical engineer</td>\n",
       "      <td>3/19/1968</td>\n",
       "      <td>2da90c7d74bd46a0caf3777415b3ebd3</td>\n",
       "      <td>1371816865</td>\n",
       "      <td>33.986391</td>\n",
       "      <td>-81.200714</td>\n",
       "      <td>0</td>\n",
       "    </tr>\n",
       "    <tr>\n",
       "      <th>1</th>\n",
       "      <td>1</td>\n",
       "      <td>6/21/2020 12:14</td>\n",
       "      <td>3573030041201290</td>\n",
       "      <td>fraud_Sporer-Keebler</td>\n",
       "      <td>personal_care</td>\n",
       "      <td>29.84</td>\n",
       "      <td>Joanne</td>\n",
       "      <td>Williams</td>\n",
       "      <td>F</td>\n",
       "      <td>3638 Marsh Union</td>\n",
       "      <td>...</td>\n",
       "      <td>40.3207</td>\n",
       "      <td>-110.4360</td>\n",
       "      <td>302</td>\n",
       "      <td>Sales professional, IT</td>\n",
       "      <td>1/17/1990</td>\n",
       "      <td>324cc204407e99f51b0d6ca0055005e7</td>\n",
       "      <td>1371816873</td>\n",
       "      <td>39.450498</td>\n",
       "      <td>-109.960431</td>\n",
       "      <td>0</td>\n",
       "    </tr>\n",
       "    <tr>\n",
       "      <th>2</th>\n",
       "      <td>2</td>\n",
       "      <td>6/21/2020 12:14</td>\n",
       "      <td>3598215285024750</td>\n",
       "      <td>fraud_Swaniawski, Nitzsche and Welch</td>\n",
       "      <td>health_fitness</td>\n",
       "      <td>41.28</td>\n",
       "      <td>Ashley</td>\n",
       "      <td>Lopez</td>\n",
       "      <td>F</td>\n",
       "      <td>9333 Valentine Point</td>\n",
       "      <td>...</td>\n",
       "      <td>40.6729</td>\n",
       "      <td>-73.5365</td>\n",
       "      <td>34496</td>\n",
       "      <td>Librarian, public</td>\n",
       "      <td>10/21/1970</td>\n",
       "      <td>c81755dbbbea9d5c77f094348a7579be</td>\n",
       "      <td>1371816893</td>\n",
       "      <td>40.495810</td>\n",
       "      <td>-74.196111</td>\n",
       "      <td>0</td>\n",
       "    </tr>\n",
       "    <tr>\n",
       "      <th>3</th>\n",
       "      <td>3</td>\n",
       "      <td>6/21/2020 12:15</td>\n",
       "      <td>3591919803438420</td>\n",
       "      <td>fraud_Haley Group</td>\n",
       "      <td>misc_pos</td>\n",
       "      <td>60.05</td>\n",
       "      <td>Brian</td>\n",
       "      <td>Williams</td>\n",
       "      <td>M</td>\n",
       "      <td>32941 Krystal Mill Apt. 552</td>\n",
       "      <td>...</td>\n",
       "      <td>28.5697</td>\n",
       "      <td>-80.8191</td>\n",
       "      <td>54767</td>\n",
       "      <td>Set designer</td>\n",
       "      <td>7/25/1987</td>\n",
       "      <td>2159175b9efe66dc301f149d3d5abf8c</td>\n",
       "      <td>1371816915</td>\n",
       "      <td>28.812398</td>\n",
       "      <td>-80.883061</td>\n",
       "      <td>0</td>\n",
       "    </tr>\n",
       "    <tr>\n",
       "      <th>4</th>\n",
       "      <td>4</td>\n",
       "      <td>6/21/2020 12:15</td>\n",
       "      <td>3526826139003040</td>\n",
       "      <td>fraud_Johnston-Casper</td>\n",
       "      <td>travel</td>\n",
       "      <td>3.19</td>\n",
       "      <td>Nathan</td>\n",
       "      <td>Massey</td>\n",
       "      <td>M</td>\n",
       "      <td>5783 Evan Roads Apt. 465</td>\n",
       "      <td>...</td>\n",
       "      <td>44.2529</td>\n",
       "      <td>-85.0170</td>\n",
       "      <td>1126</td>\n",
       "      <td>Furniture designer</td>\n",
       "      <td>7/6/1955</td>\n",
       "      <td>57ff021bd3f328f8738bb535c302a31b</td>\n",
       "      <td>1371816917</td>\n",
       "      <td>44.959148</td>\n",
       "      <td>-85.884734</td>\n",
       "      <td>0</td>\n",
       "    </tr>\n",
       "  </tbody>\n",
       "</table>\n",
       "<p>5 rows × 23 columns</p>\n",
       "</div>"
      ],
      "text/plain": [
       "   Unnamed: 0 trans_date_trans_time            cc_num  \\\n",
       "0           0       6/21/2020 12:14  2291163933867240   \n",
       "1           1       6/21/2020 12:14  3573030041201290   \n",
       "2           2       6/21/2020 12:14  3598215285024750   \n",
       "3           3       6/21/2020 12:15  3591919803438420   \n",
       "4           4       6/21/2020 12:15  3526826139003040   \n",
       "\n",
       "                               merchant        category    amt   first  \\\n",
       "0                 fraud_Kirlin and Sons   personal_care   2.86    Jeff   \n",
       "1                  fraud_Sporer-Keebler   personal_care  29.84  Joanne   \n",
       "2  fraud_Swaniawski, Nitzsche and Welch  health_fitness  41.28  Ashley   \n",
       "3                     fraud_Haley Group        misc_pos  60.05   Brian   \n",
       "4                 fraud_Johnston-Casper          travel   3.19  Nathan   \n",
       "\n",
       "       last gender                       street  ...      lat      long  \\\n",
       "0   Elliott      M            351 Darlene Green  ...  33.9659  -80.9355   \n",
       "1  Williams      F             3638 Marsh Union  ...  40.3207 -110.4360   \n",
       "2     Lopez      F         9333 Valentine Point  ...  40.6729  -73.5365   \n",
       "3  Williams      M  32941 Krystal Mill Apt. 552  ...  28.5697  -80.8191   \n",
       "4    Massey      M     5783 Evan Roads Apt. 465  ...  44.2529  -85.0170   \n",
       "\n",
       "   city_pop                     job         dob  \\\n",
       "0    333497     Mechanical engineer   3/19/1968   \n",
       "1       302  Sales professional, IT   1/17/1990   \n",
       "2     34496       Librarian, public  10/21/1970   \n",
       "3     54767            Set designer   7/25/1987   \n",
       "4      1126      Furniture designer    7/6/1955   \n",
       "\n",
       "                          trans_num   unix_time  merch_lat  merch_long  \\\n",
       "0  2da90c7d74bd46a0caf3777415b3ebd3  1371816865  33.986391  -81.200714   \n",
       "1  324cc204407e99f51b0d6ca0055005e7  1371816873  39.450498 -109.960431   \n",
       "2  c81755dbbbea9d5c77f094348a7579be  1371816893  40.495810  -74.196111   \n",
       "3  2159175b9efe66dc301f149d3d5abf8c  1371816915  28.812398  -80.883061   \n",
       "4  57ff021bd3f328f8738bb535c302a31b  1371816917  44.959148  -85.884734   \n",
       "\n",
       "   is_fraud  \n",
       "0         0  \n",
       "1         0  \n",
       "2         0  \n",
       "3         0  \n",
       "4         0  \n",
       "\n",
       "[5 rows x 23 columns]"
      ]
     },
     "execution_count": 3,
     "metadata": {},
     "output_type": "execute_result"
    }
   ],
   "source": [
    "df.head()"
   ]
  },
  {
   "cell_type": "code",
   "execution_count": 4,
   "id": "extended-responsibility",
   "metadata": {},
   "outputs": [],
   "source": [
    "dff=df.iloc[:,1:]"
   ]
  },
  {
   "cell_type": "code",
   "execution_count": 5,
   "id": "careful-burlington",
   "metadata": {},
   "outputs": [
    {
     "data": {
      "text/html": [
       "<div>\n",
       "<style scoped>\n",
       "    .dataframe tbody tr th:only-of-type {\n",
       "        vertical-align: middle;\n",
       "    }\n",
       "\n",
       "    .dataframe tbody tr th {\n",
       "        vertical-align: top;\n",
       "    }\n",
       "\n",
       "    .dataframe thead th {\n",
       "        text-align: right;\n",
       "    }\n",
       "</style>\n",
       "<table border=\"1\" class=\"dataframe\">\n",
       "  <thead>\n",
       "    <tr style=\"text-align: right;\">\n",
       "      <th></th>\n",
       "      <th>trans_date_trans_time</th>\n",
       "      <th>cc_num</th>\n",
       "      <th>merchant</th>\n",
       "      <th>category</th>\n",
       "      <th>amt</th>\n",
       "      <th>first</th>\n",
       "      <th>last</th>\n",
       "      <th>gender</th>\n",
       "      <th>street</th>\n",
       "      <th>city</th>\n",
       "      <th>...</th>\n",
       "      <th>lat</th>\n",
       "      <th>long</th>\n",
       "      <th>city_pop</th>\n",
       "      <th>job</th>\n",
       "      <th>dob</th>\n",
       "      <th>trans_num</th>\n",
       "      <th>unix_time</th>\n",
       "      <th>merch_lat</th>\n",
       "      <th>merch_long</th>\n",
       "      <th>is_fraud</th>\n",
       "    </tr>\n",
       "  </thead>\n",
       "  <tbody>\n",
       "    <tr>\n",
       "      <th>0</th>\n",
       "      <td>6/21/2020 12:14</td>\n",
       "      <td>2291163933867240</td>\n",
       "      <td>fraud_Kirlin and Sons</td>\n",
       "      <td>personal_care</td>\n",
       "      <td>2.86</td>\n",
       "      <td>Jeff</td>\n",
       "      <td>Elliott</td>\n",
       "      <td>M</td>\n",
       "      <td>351 Darlene Green</td>\n",
       "      <td>Columbia</td>\n",
       "      <td>...</td>\n",
       "      <td>33.9659</td>\n",
       "      <td>-80.9355</td>\n",
       "      <td>333497</td>\n",
       "      <td>Mechanical engineer</td>\n",
       "      <td>3/19/1968</td>\n",
       "      <td>2da90c7d74bd46a0caf3777415b3ebd3</td>\n",
       "      <td>1371816865</td>\n",
       "      <td>33.986391</td>\n",
       "      <td>-81.200714</td>\n",
       "      <td>0</td>\n",
       "    </tr>\n",
       "    <tr>\n",
       "      <th>1</th>\n",
       "      <td>6/21/2020 12:14</td>\n",
       "      <td>3573030041201290</td>\n",
       "      <td>fraud_Sporer-Keebler</td>\n",
       "      <td>personal_care</td>\n",
       "      <td>29.84</td>\n",
       "      <td>Joanne</td>\n",
       "      <td>Williams</td>\n",
       "      <td>F</td>\n",
       "      <td>3638 Marsh Union</td>\n",
       "      <td>Altonah</td>\n",
       "      <td>...</td>\n",
       "      <td>40.3207</td>\n",
       "      <td>-110.4360</td>\n",
       "      <td>302</td>\n",
       "      <td>Sales professional, IT</td>\n",
       "      <td>1/17/1990</td>\n",
       "      <td>324cc204407e99f51b0d6ca0055005e7</td>\n",
       "      <td>1371816873</td>\n",
       "      <td>39.450498</td>\n",
       "      <td>-109.960431</td>\n",
       "      <td>0</td>\n",
       "    </tr>\n",
       "    <tr>\n",
       "      <th>2</th>\n",
       "      <td>6/21/2020 12:14</td>\n",
       "      <td>3598215285024750</td>\n",
       "      <td>fraud_Swaniawski, Nitzsche and Welch</td>\n",
       "      <td>health_fitness</td>\n",
       "      <td>41.28</td>\n",
       "      <td>Ashley</td>\n",
       "      <td>Lopez</td>\n",
       "      <td>F</td>\n",
       "      <td>9333 Valentine Point</td>\n",
       "      <td>Bellmore</td>\n",
       "      <td>...</td>\n",
       "      <td>40.6729</td>\n",
       "      <td>-73.5365</td>\n",
       "      <td>34496</td>\n",
       "      <td>Librarian, public</td>\n",
       "      <td>10/21/1970</td>\n",
       "      <td>c81755dbbbea9d5c77f094348a7579be</td>\n",
       "      <td>1371816893</td>\n",
       "      <td>40.495810</td>\n",
       "      <td>-74.196111</td>\n",
       "      <td>0</td>\n",
       "    </tr>\n",
       "    <tr>\n",
       "      <th>3</th>\n",
       "      <td>6/21/2020 12:15</td>\n",
       "      <td>3591919803438420</td>\n",
       "      <td>fraud_Haley Group</td>\n",
       "      <td>misc_pos</td>\n",
       "      <td>60.05</td>\n",
       "      <td>Brian</td>\n",
       "      <td>Williams</td>\n",
       "      <td>M</td>\n",
       "      <td>32941 Krystal Mill Apt. 552</td>\n",
       "      <td>Titusville</td>\n",
       "      <td>...</td>\n",
       "      <td>28.5697</td>\n",
       "      <td>-80.8191</td>\n",
       "      <td>54767</td>\n",
       "      <td>Set designer</td>\n",
       "      <td>7/25/1987</td>\n",
       "      <td>2159175b9efe66dc301f149d3d5abf8c</td>\n",
       "      <td>1371816915</td>\n",
       "      <td>28.812398</td>\n",
       "      <td>-80.883061</td>\n",
       "      <td>0</td>\n",
       "    </tr>\n",
       "    <tr>\n",
       "      <th>4</th>\n",
       "      <td>6/21/2020 12:15</td>\n",
       "      <td>3526826139003040</td>\n",
       "      <td>fraud_Johnston-Casper</td>\n",
       "      <td>travel</td>\n",
       "      <td>3.19</td>\n",
       "      <td>Nathan</td>\n",
       "      <td>Massey</td>\n",
       "      <td>M</td>\n",
       "      <td>5783 Evan Roads Apt. 465</td>\n",
       "      <td>Falmouth</td>\n",
       "      <td>...</td>\n",
       "      <td>44.2529</td>\n",
       "      <td>-85.0170</td>\n",
       "      <td>1126</td>\n",
       "      <td>Furniture designer</td>\n",
       "      <td>7/6/1955</td>\n",
       "      <td>57ff021bd3f328f8738bb535c302a31b</td>\n",
       "      <td>1371816917</td>\n",
       "      <td>44.959148</td>\n",
       "      <td>-85.884734</td>\n",
       "      <td>0</td>\n",
       "    </tr>\n",
       "  </tbody>\n",
       "</table>\n",
       "<p>5 rows × 22 columns</p>\n",
       "</div>"
      ],
      "text/plain": [
       "  trans_date_trans_time            cc_num  \\\n",
       "0       6/21/2020 12:14  2291163933867240   \n",
       "1       6/21/2020 12:14  3573030041201290   \n",
       "2       6/21/2020 12:14  3598215285024750   \n",
       "3       6/21/2020 12:15  3591919803438420   \n",
       "4       6/21/2020 12:15  3526826139003040   \n",
       "\n",
       "                               merchant        category    amt   first  \\\n",
       "0                 fraud_Kirlin and Sons   personal_care   2.86    Jeff   \n",
       "1                  fraud_Sporer-Keebler   personal_care  29.84  Joanne   \n",
       "2  fraud_Swaniawski, Nitzsche and Welch  health_fitness  41.28  Ashley   \n",
       "3                     fraud_Haley Group        misc_pos  60.05   Brian   \n",
       "4                 fraud_Johnston-Casper          travel   3.19  Nathan   \n",
       "\n",
       "       last gender                       street        city  ...      lat  \\\n",
       "0   Elliott      M            351 Darlene Green    Columbia  ...  33.9659   \n",
       "1  Williams      F             3638 Marsh Union     Altonah  ...  40.3207   \n",
       "2     Lopez      F         9333 Valentine Point    Bellmore  ...  40.6729   \n",
       "3  Williams      M  32941 Krystal Mill Apt. 552  Titusville  ...  28.5697   \n",
       "4    Massey      M     5783 Evan Roads Apt. 465    Falmouth  ...  44.2529   \n",
       "\n",
       "       long  city_pop                     job         dob  \\\n",
       "0  -80.9355    333497     Mechanical engineer   3/19/1968   \n",
       "1 -110.4360       302  Sales professional, IT   1/17/1990   \n",
       "2  -73.5365     34496       Librarian, public  10/21/1970   \n",
       "3  -80.8191     54767            Set designer   7/25/1987   \n",
       "4  -85.0170      1126      Furniture designer    7/6/1955   \n",
       "\n",
       "                          trans_num   unix_time  merch_lat  merch_long  \\\n",
       "0  2da90c7d74bd46a0caf3777415b3ebd3  1371816865  33.986391  -81.200714   \n",
       "1  324cc204407e99f51b0d6ca0055005e7  1371816873  39.450498 -109.960431   \n",
       "2  c81755dbbbea9d5c77f094348a7579be  1371816893  40.495810  -74.196111   \n",
       "3  2159175b9efe66dc301f149d3d5abf8c  1371816915  28.812398  -80.883061   \n",
       "4  57ff021bd3f328f8738bb535c302a31b  1371816917  44.959148  -85.884734   \n",
       "\n",
       "   is_fraud  \n",
       "0         0  \n",
       "1         0  \n",
       "2         0  \n",
       "3         0  \n",
       "4         0  \n",
       "\n",
       "[5 rows x 22 columns]"
      ]
     },
     "execution_count": 5,
     "metadata": {},
     "output_type": "execute_result"
    }
   ],
   "source": [
    "dff.head()"
   ]
  },
  {
   "cell_type": "code",
   "execution_count": 6,
   "id": "removed-strengthening",
   "metadata": {},
   "outputs": [
    {
     "name": "stdout",
     "output_type": "stream",
     "text": [
      "<class 'pandas.core.frame.DataFrame'>\n",
      "RangeIndex: 61421 entries, 0 to 61420\n",
      "Data columns (total 22 columns):\n",
      " #   Column                 Non-Null Count  Dtype  \n",
      "---  ------                 --------------  -----  \n",
      " 0   trans_date_trans_time  61421 non-null  object \n",
      " 1   cc_num                 61421 non-null  int64  \n",
      " 2   merchant               61421 non-null  object \n",
      " 3   category               61421 non-null  object \n",
      " 4   amt                    61421 non-null  float64\n",
      " 5   first                  61421 non-null  object \n",
      " 6   last                   61421 non-null  object \n",
      " 7   gender                 61421 non-null  object \n",
      " 8   street                 61421 non-null  object \n",
      " 9   city                   61421 non-null  object \n",
      " 10  state                  61421 non-null  object \n",
      " 11  zip                    61421 non-null  int64  \n",
      " 12  lat                    61421 non-null  float64\n",
      " 13  long                   61421 non-null  float64\n",
      " 14  city_pop               61421 non-null  int64  \n",
      " 15  job                    61421 non-null  object \n",
      " 16  dob                    61421 non-null  object \n",
      " 17  trans_num              61421 non-null  object \n",
      " 18  unix_time              61421 non-null  int64  \n",
      " 19  merch_lat              61421 non-null  float64\n",
      " 20  merch_long             61421 non-null  float64\n",
      " 21  is_fraud               61421 non-null  int64  \n",
      "dtypes: float64(5), int64(5), object(12)\n",
      "memory usage: 10.3+ MB\n"
     ]
    }
   ],
   "source": [
    "dff.info()"
   ]
  },
  {
   "cell_type": "code",
   "execution_count": 7,
   "id": "sublime-setting",
   "metadata": {},
   "outputs": [
    {
     "data": {
      "text/html": [
       "<div>\n",
       "<style scoped>\n",
       "    .dataframe tbody tr th:only-of-type {\n",
       "        vertical-align: middle;\n",
       "    }\n",
       "\n",
       "    .dataframe tbody tr th {\n",
       "        vertical-align: top;\n",
       "    }\n",
       "\n",
       "    .dataframe thead th {\n",
       "        text-align: right;\n",
       "    }\n",
       "</style>\n",
       "<table border=\"1\" class=\"dataframe\">\n",
       "  <thead>\n",
       "    <tr style=\"text-align: right;\">\n",
       "      <th></th>\n",
       "      <th>trans_date_trans_time</th>\n",
       "      <th>cc_num</th>\n",
       "      <th>merchant</th>\n",
       "      <th>category</th>\n",
       "      <th>amt</th>\n",
       "      <th>first</th>\n",
       "      <th>last</th>\n",
       "      <th>gender</th>\n",
       "      <th>street</th>\n",
       "      <th>city</th>\n",
       "      <th>...</th>\n",
       "      <th>lat</th>\n",
       "      <th>long</th>\n",
       "      <th>city_pop</th>\n",
       "      <th>job</th>\n",
       "      <th>dob</th>\n",
       "      <th>trans_num</th>\n",
       "      <th>unix_time</th>\n",
       "      <th>merch_lat</th>\n",
       "      <th>merch_long</th>\n",
       "      <th>is_fraud</th>\n",
       "    </tr>\n",
       "  </thead>\n",
       "  <tbody>\n",
       "    <tr>\n",
       "      <th>61416</th>\n",
       "      <td>7/12/2020 19:30</td>\n",
       "      <td>3551217896304740</td>\n",
       "      <td>fraud_Bahringer-Streich</td>\n",
       "      <td>food_dining</td>\n",
       "      <td>78.28</td>\n",
       "      <td>Sara</td>\n",
       "      <td>Harris</td>\n",
       "      <td>F</td>\n",
       "      <td>597 Jenny Ford Apt. 543</td>\n",
       "      <td>Tupper Lake</td>\n",
       "      <td>...</td>\n",
       "      <td>44.2320</td>\n",
       "      <td>-74.4905</td>\n",
       "      <td>6120</td>\n",
       "      <td>Chartered loss adjuster</td>\n",
       "      <td>10/9/1976</td>\n",
       "      <td>54ce3f0a294365bb1a878ad0991d571d</td>\n",
       "      <td>1373657448</td>\n",
       "      <td>45.064273</td>\n",
       "      <td>-73.892743</td>\n",
       "      <td>0</td>\n",
       "    </tr>\n",
       "    <tr>\n",
       "      <th>61417</th>\n",
       "      <td>7/12/2020 19:31</td>\n",
       "      <td>676102124465</td>\n",
       "      <td>fraud_Walter, Hettinger and Kessler</td>\n",
       "      <td>personal_care</td>\n",
       "      <td>28.88</td>\n",
       "      <td>Natasha</td>\n",
       "      <td>Mclaughlin</td>\n",
       "      <td>F</td>\n",
       "      <td>8699 Lindsay Ford Apt. 486</td>\n",
       "      <td>Napa</td>\n",
       "      <td>...</td>\n",
       "      <td>38.4549</td>\n",
       "      <td>-122.2564</td>\n",
       "      <td>94014</td>\n",
       "      <td>Airline pilot</td>\n",
       "      <td>8/21/1985</td>\n",
       "      <td>52f513be578c8ab672e7cd1620fcb7c2</td>\n",
       "      <td>1373657460</td>\n",
       "      <td>39.333584</td>\n",
       "      <td>-122.266391</td>\n",
       "      <td>0</td>\n",
       "    </tr>\n",
       "    <tr>\n",
       "      <th>61418</th>\n",
       "      <td>7/12/2020 19:31</td>\n",
       "      <td>30197398657930</td>\n",
       "      <td>fraud_Jast-McDermott</td>\n",
       "      <td>shopping_pos</td>\n",
       "      <td>2.36</td>\n",
       "      <td>April</td>\n",
       "      <td>Johnson</td>\n",
       "      <td>F</td>\n",
       "      <td>9727 Deleon Mountain</td>\n",
       "      <td>Creedmoor</td>\n",
       "      <td>...</td>\n",
       "      <td>36.1124</td>\n",
       "      <td>-78.6476</td>\n",
       "      <td>12335</td>\n",
       "      <td>Chief Strategy Officer</td>\n",
       "      <td>9/19/1987</td>\n",
       "      <td>b51a23b15ee6b3b614f6727f2c36de4f</td>\n",
       "      <td>1373657463</td>\n",
       "      <td>36.799299</td>\n",
       "      <td>-78.725859</td>\n",
       "      <td>0</td>\n",
       "    </tr>\n",
       "    <tr>\n",
       "      <th>61419</th>\n",
       "      <td>7/12/2020 19:31</td>\n",
       "      <td>379897244598068</td>\n",
       "      <td>fraud_Emmerich-Rau</td>\n",
       "      <td>personal_care</td>\n",
       "      <td>17.18</td>\n",
       "      <td>Frank</td>\n",
       "      <td>Key</td>\n",
       "      <td>M</td>\n",
       "      <td>5537 Jessica Plaza</td>\n",
       "      <td>Pewee Valley</td>\n",
       "      <td>...</td>\n",
       "      <td>38.3039</td>\n",
       "      <td>-85.4834</td>\n",
       "      <td>3263</td>\n",
       "      <td>Stage manager</td>\n",
       "      <td>2/28/1930</td>\n",
       "      <td>06e65b84f1d72b4657f43e687abf04b4</td>\n",
       "      <td>1373657465</td>\n",
       "      <td>38.173806</td>\n",
       "      <td>-84.962561</td>\n",
       "      <td>0</td>\n",
       "    </tr>\n",
       "    <tr>\n",
       "      <th>61420</th>\n",
       "      <td>7/12/2020 19:31</td>\n",
       "      <td>376445266762684</td>\n",
       "      <td>fraud_Altenwerth-Kilback</td>\n",
       "      <td>home</td>\n",
       "      <td>12.99</td>\n",
       "      <td>Rachel</td>\n",
       "      <td>Lowe</td>\n",
       "      <td>F</td>\n",
       "      <td>372 Jeffrey Course</td>\n",
       "      <td>Sutherland</td>\n",
       "      <td>...</td>\n",
       "      <td>41.1558</td>\n",
       "      <td>-101.1360</td>\n",
       "      <td>1789</td>\n",
       "      <td>Insurance broker</td>\n",
       "      <td>2/11/1982</td>\n",
       "      <td>871ab546b6d9b5ec11ae45b79855a94b</td>\n",
       "      <td>1373657475</td>\n",
       "      <td>41.795594</td>\n",
       "      <td>-100.550790</td>\n",
       "      <td>0</td>\n",
       "    </tr>\n",
       "  </tbody>\n",
       "</table>\n",
       "<p>5 rows × 22 columns</p>\n",
       "</div>"
      ],
      "text/plain": [
       "      trans_date_trans_time            cc_num  \\\n",
       "61416       7/12/2020 19:30  3551217896304740   \n",
       "61417       7/12/2020 19:31      676102124465   \n",
       "61418       7/12/2020 19:31    30197398657930   \n",
       "61419       7/12/2020 19:31   379897244598068   \n",
       "61420       7/12/2020 19:31   376445266762684   \n",
       "\n",
       "                                  merchant       category    amt    first  \\\n",
       "61416              fraud_Bahringer-Streich    food_dining  78.28     Sara   \n",
       "61417  fraud_Walter, Hettinger and Kessler  personal_care  28.88  Natasha   \n",
       "61418                 fraud_Jast-McDermott   shopping_pos   2.36    April   \n",
       "61419                   fraud_Emmerich-Rau  personal_care  17.18    Frank   \n",
       "61420             fraud_Altenwerth-Kilback           home  12.99   Rachel   \n",
       "\n",
       "             last gender                      street          city  ...  \\\n",
       "61416      Harris      F     597 Jenny Ford Apt. 543   Tupper Lake  ...   \n",
       "61417  Mclaughlin      F  8699 Lindsay Ford Apt. 486          Napa  ...   \n",
       "61418     Johnson      F        9727 Deleon Mountain     Creedmoor  ...   \n",
       "61419         Key      M          5537 Jessica Plaza  Pewee Valley  ...   \n",
       "61420        Lowe      F          372 Jeffrey Course    Sutherland  ...   \n",
       "\n",
       "           lat      long  city_pop                      job        dob  \\\n",
       "61416  44.2320  -74.4905      6120  Chartered loss adjuster  10/9/1976   \n",
       "61417  38.4549 -122.2564     94014            Airline pilot  8/21/1985   \n",
       "61418  36.1124  -78.6476     12335   Chief Strategy Officer  9/19/1987   \n",
       "61419  38.3039  -85.4834      3263            Stage manager  2/28/1930   \n",
       "61420  41.1558 -101.1360      1789         Insurance broker  2/11/1982   \n",
       "\n",
       "                              trans_num   unix_time  merch_lat  merch_long  \\\n",
       "61416  54ce3f0a294365bb1a878ad0991d571d  1373657448  45.064273  -73.892743   \n",
       "61417  52f513be578c8ab672e7cd1620fcb7c2  1373657460  39.333584 -122.266391   \n",
       "61418  b51a23b15ee6b3b614f6727f2c36de4f  1373657463  36.799299  -78.725859   \n",
       "61419  06e65b84f1d72b4657f43e687abf04b4  1373657465  38.173806  -84.962561   \n",
       "61420  871ab546b6d9b5ec11ae45b79855a94b  1373657475  41.795594 -100.550790   \n",
       "\n",
       "       is_fraud  \n",
       "61416         0  \n",
       "61417         0  \n",
       "61418         0  \n",
       "61419         0  \n",
       "61420         0  \n",
       "\n",
       "[5 rows x 22 columns]"
      ]
     },
     "execution_count": 7,
     "metadata": {},
     "output_type": "execute_result"
    }
   ],
   "source": [
    "dff.tail()"
   ]
  },
  {
   "cell_type": "code",
   "execution_count": 8,
   "id": "existing-cocktail",
   "metadata": {},
   "outputs": [],
   "source": [
    "dff['trans_date_trans_time']=pd.to_datetime(dff['trans_date_trans_time'])"
   ]
  },
  {
   "cell_type": "code",
   "execution_count": 9,
   "id": "photographic-trinidad",
   "metadata": {
    "scrolled": true
   },
   "outputs": [
    {
     "name": "stdout",
     "output_type": "stream",
     "text": [
      "<class 'pandas.core.frame.DataFrame'>\n",
      "RangeIndex: 61421 entries, 0 to 61420\n",
      "Data columns (total 22 columns):\n",
      " #   Column                 Non-Null Count  Dtype         \n",
      "---  ------                 --------------  -----         \n",
      " 0   trans_date_trans_time  61421 non-null  datetime64[ns]\n",
      " 1   cc_num                 61421 non-null  int64         \n",
      " 2   merchant               61421 non-null  object        \n",
      " 3   category               61421 non-null  object        \n",
      " 4   amt                    61421 non-null  float64       \n",
      " 5   first                  61421 non-null  object        \n",
      " 6   last                   61421 non-null  object        \n",
      " 7   gender                 61421 non-null  object        \n",
      " 8   street                 61421 non-null  object        \n",
      " 9   city                   61421 non-null  object        \n",
      " 10  state                  61421 non-null  object        \n",
      " 11  zip                    61421 non-null  int64         \n",
      " 12  lat                    61421 non-null  float64       \n",
      " 13  long                   61421 non-null  float64       \n",
      " 14  city_pop               61421 non-null  int64         \n",
      " 15  job                    61421 non-null  object        \n",
      " 16  dob                    61421 non-null  object        \n",
      " 17  trans_num              61421 non-null  object        \n",
      " 18  unix_time              61421 non-null  int64         \n",
      " 19  merch_lat              61421 non-null  float64       \n",
      " 20  merch_long             61421 non-null  float64       \n",
      " 21  is_fraud               61421 non-null  int64         \n",
      "dtypes: datetime64[ns](1), float64(5), int64(5), object(11)\n",
      "memory usage: 10.3+ MB\n"
     ]
    }
   ],
   "source": [
    "dff.info()"
   ]
  },
  {
   "cell_type": "code",
   "execution_count": 10,
   "id": "remarkable-clothing",
   "metadata": {},
   "outputs": [
    {
     "data": {
      "text/plain": [
       "<AxesSubplot:>"
      ]
     },
     "execution_count": 10,
     "metadata": {},
     "output_type": "execute_result"
    },
    {
     "data": {
      "image/png": "[encoded data removed]",
      "text/plain": [
       "<Figure size 1008x576 with 2 Axes>"
      ]
     },
     "metadata": {
      "needs_background": "light"
     },
     "output_type": "display_data"
    }
   ],
   "source": [
    "import seaborn as seabornInstance\n",
    "correlation=dff.corr()\n",
    "plt.figure(figsize=(14,8))\n",
    "seabornInstance.heatmap(correlation,annot= True ,linewidths=0,vmin=-1,cmap=\"RdBu_r\")"
   ]
  },
  {
   "cell_type": "code",
   "execution_count": 11,
   "id": "assumed-investigator",
   "metadata": {},
   "outputs": [
    {
     "data": {
      "text/plain": [
       "12"
      ]
     },
     "execution_count": 11,
     "metadata": {},
     "output_type": "execute_result"
    }
   ],
   "source": [
    "dff['trans_date_trans_time'][0].hour"
   ]
  },
  {
   "cell_type": "code",
   "execution_count": 12,
   "id": "announced-candle",
   "metadata": {},
   "outputs": [],
   "source": [
    "dff['hour']=0"
   ]
  },
  {
   "cell_type": "code",
   "execution_count": 13,
   "id": "signed-politics",
   "metadata": {},
   "outputs": [
    {
     "data": {
      "text/plain": [
       "61421"
      ]
     },
     "execution_count": 13,
     "metadata": {},
     "output_type": "execute_result"
    }
   ],
   "source": [
    "len(dff)"
   ]
  },
  {
   "cell_type": "code",
   "execution_count": 14,
   "id": "mounted-carbon",
   "metadata": {},
   "outputs": [
    {
     "name": "stderr",
     "output_type": "stream",
     "text": [
      "<ipython-input-14-3e756181d568>:2: SettingWithCopyWarning: \n",
      "A value is trying to be set on a copy of a slice from a DataFrame\n",
      "\n",
      "See the caveats in the documentation: https://pandas.pydata.org/pandas-docs/stable/user_guide/indexing.html#returning-a-view-versus-a-copy\n",
      "  dff['hour'][i]=dff['trans_date_trans_time'][i].hour\n"
     ]
    }
   ],
   "source": [
    "\n",
    "for i in range(0,len(dff)):\n",
    "    dff['hour'][i]=dff['trans_date_trans_time'][i].hour"
   ]
  },
  {
   "cell_type": "code",
   "execution_count": 15,
   "id": "severe-english",
   "metadata": {},
   "outputs": [
    {
     "data": {
      "text/html": [
       "<div>\n",
       "<style scoped>\n",
       "    .dataframe tbody tr th:only-of-type {\n",
       "        vertical-align: middle;\n",
       "    }\n",
       "\n",
       "    .dataframe tbody tr th {\n",
       "        vertical-align: top;\n",
       "    }\n",
       "\n",
       "    .dataframe thead th {\n",
       "        text-align: right;\n",
       "    }\n",
       "</style>\n",
       "<table border=\"1\" class=\"dataframe\">\n",
       "  <thead>\n",
       "    <tr style=\"text-align: right;\">\n",
       "      <th></th>\n",
       "      <th>trans_date_trans_time</th>\n",
       "      <th>cc_num</th>\n",
       "      <th>merchant</th>\n",
       "      <th>category</th>\n",
       "      <th>amt</th>\n",
       "      <th>first</th>\n",
       "      <th>last</th>\n",
       "      <th>gender</th>\n",
       "      <th>street</th>\n",
       "      <th>city</th>\n",
       "      <th>...</th>\n",
       "      <th>long</th>\n",
       "      <th>city_pop</th>\n",
       "      <th>job</th>\n",
       "      <th>dob</th>\n",
       "      <th>trans_num</th>\n",
       "      <th>unix_time</th>\n",
       "      <th>merch_lat</th>\n",
       "      <th>merch_long</th>\n",
       "      <th>is_fraud</th>\n",
       "      <th>hour</th>\n",
       "    </tr>\n",
       "  </thead>\n",
       "  <tbody>\n",
       "    <tr>\n",
       "      <th>0</th>\n",
       "      <td>2020-06-21 12:14:00</td>\n",
       "      <td>2291163933867240</td>\n",
       "      <td>fraud_Kirlin and Sons</td>\n",
       "      <td>personal_care</td>\n",
       "      <td>2.86</td>\n",
       "      <td>Jeff</td>\n",
       "      <td>Elliott</td>\n",
       "      <td>M</td>\n",
       "      <td>351 Darlene Green</td>\n",
       "      <td>Columbia</td>\n",
       "      <td>...</td>\n",
       "      <td>-80.9355</td>\n",
       "      <td>333497</td>\n",
       "      <td>Mechanical engineer</td>\n",
       "      <td>3/19/1968</td>\n",
       "      <td>2da90c7d74bd46a0caf3777415b3ebd3</td>\n",
       "      <td>1371816865</td>\n",
       "      <td>33.986391</td>\n",
       "      <td>-81.200714</td>\n",
       "      <td>0</td>\n",
       "      <td>12</td>\n",
       "    </tr>\n",
       "    <tr>\n",
       "      <th>1</th>\n",
       "      <td>2020-06-21 12:14:00</td>\n",
       "      <td>3573030041201290</td>\n",
       "      <td>fraud_Sporer-Keebler</td>\n",
       "      <td>personal_care</td>\n",
       "      <td>29.84</td>\n",
       "      <td>Joanne</td>\n",
       "      <td>Williams</td>\n",
       "      <td>F</td>\n",
       "      <td>3638 Marsh Union</td>\n",
       "      <td>Altonah</td>\n",
       "      <td>...</td>\n",
       "      <td>-110.4360</td>\n",
       "      <td>302</td>\n",
       "      <td>Sales professional, IT</td>\n",
       "      <td>1/17/1990</td>\n",
       "      <td>324cc204407e99f51b0d6ca0055005e7</td>\n",
       "      <td>1371816873</td>\n",
       "      <td>39.450498</td>\n",
       "      <td>-109.960431</td>\n",
       "      <td>0</td>\n",
       "      <td>12</td>\n",
       "    </tr>\n",
       "    <tr>\n",
       "      <th>2</th>\n",
       "      <td>2020-06-21 12:14:00</td>\n",
       "      <td>3598215285024750</td>\n",
       "      <td>fraud_Swaniawski, Nitzsche and Welch</td>\n",
       "      <td>health_fitness</td>\n",
       "      <td>41.28</td>\n",
       "      <td>Ashley</td>\n",
       "      <td>Lopez</td>\n",
       "      <td>F</td>\n",
       "      <td>9333 Valentine Point</td>\n",
       "      <td>Bellmore</td>\n",
       "      <td>...</td>\n",
       "      <td>-73.5365</td>\n",
       "      <td>34496</td>\n",
       "      <td>Librarian, public</td>\n",
       "      <td>10/21/1970</td>\n",
       "      <td>c81755dbbbea9d5c77f094348a7579be</td>\n",
       "      <td>1371816893</td>\n",
       "      <td>40.495810</td>\n",
       "      <td>-74.196111</td>\n",
       "      <td>0</td>\n",
       "      <td>12</td>\n",
       "    </tr>\n",
       "    <tr>\n",
       "      <th>3</th>\n",
       "      <td>2020-06-21 12:15:00</td>\n",
       "      <td>3591919803438420</td>\n",
       "      <td>fraud_Haley Group</td>\n",
       "      <td>misc_pos</td>\n",
       "      <td>60.05</td>\n",
       "      <td>Brian</td>\n",
       "      <td>Williams</td>\n",
       "      <td>M</td>\n",
       "      <td>32941 Krystal Mill Apt. 552</td>\n",
       "      <td>Titusville</td>\n",
       "      <td>...</td>\n",
       "      <td>-80.8191</td>\n",
       "      <td>54767</td>\n",
       "      <td>Set designer</td>\n",
       "      <td>7/25/1987</td>\n",
       "      <td>2159175b9efe66dc301f149d3d5abf8c</td>\n",
       "      <td>1371816915</td>\n",
       "      <td>28.812398</td>\n",
       "      <td>-80.883061</td>\n",
       "      <td>0</td>\n",
       "      <td>12</td>\n",
       "    </tr>\n",
       "    <tr>\n",
       "      <th>4</th>\n",
       "      <td>2020-06-21 12:15:00</td>\n",
       "      <td>3526826139003040</td>\n",
       "      <td>fraud_Johnston-Casper</td>\n",
       "      <td>travel</td>\n",
       "      <td>3.19</td>\n",
       "      <td>Nathan</td>\n",
       "      <td>Massey</td>\n",
       "      <td>M</td>\n",
       "      <td>5783 Evan Roads Apt. 465</td>\n",
       "      <td>Falmouth</td>\n",
       "      <td>...</td>\n",
       "      <td>-85.0170</td>\n",
       "      <td>1126</td>\n",
       "      <td>Furniture designer</td>\n",
       "      <td>7/6/1955</td>\n",
       "      <td>57ff021bd3f328f8738bb535c302a31b</td>\n",
       "      <td>1371816917</td>\n",
       "      <td>44.959148</td>\n",
       "      <td>-85.884734</td>\n",
       "      <td>0</td>\n",
       "      <td>12</td>\n",
       "    </tr>\n",
       "  </tbody>\n",
       "</table>\n",
       "<p>5 rows × 23 columns</p>\n",
       "</div>"
      ],
      "text/plain": [
       "  trans_date_trans_time            cc_num  \\\n",
       "0   2020-06-21 12:14:00  2291163933867240   \n",
       "1   2020-06-21 12:14:00  3573030041201290   \n",
       "2   2020-06-21 12:14:00  3598215285024750   \n",
       "3   2020-06-21 12:15:00  3591919803438420   \n",
       "4   2020-06-21 12:15:00  3526826139003040   \n",
       "\n",
       "                               merchant        category    amt   first  \\\n",
       "0                 fraud_Kirlin and Sons   personal_care   2.86    Jeff   \n",
       "1                  fraud_Sporer-Keebler   personal_care  29.84  Joanne   \n",
       "2  fraud_Swaniawski, Nitzsche and Welch  health_fitness  41.28  Ashley   \n",
       "3                     fraud_Haley Group        misc_pos  60.05   Brian   \n",
       "4                 fraud_Johnston-Casper          travel   3.19  Nathan   \n",
       "\n",
       "       last gender                       street        city  ...      long  \\\n",
       "0   Elliott      M            351 Darlene Green    Columbia  ...  -80.9355   \n",
       "1  Williams      F             3638 Marsh Union     Altonah  ... -110.4360   \n",
       "2     Lopez      F         9333 Valentine Point    Bellmore  ...  -73.5365   \n",
       "3  Williams      M  32941 Krystal Mill Apt. 552  Titusville  ...  -80.8191   \n",
       "4    Massey      M     5783 Evan Roads Apt. 465    Falmouth  ...  -85.0170   \n",
       "\n",
       "   city_pop                     job         dob  \\\n",
       "0    333497     Mechanical engineer   3/19/1968   \n",
       "1       302  Sales professional, IT   1/17/1990   \n",
       "2     34496       Librarian, public  10/21/1970   \n",
       "3     54767            Set designer   7/25/1987   \n",
       "4      1126      Furniture designer    7/6/1955   \n",
       "\n",
       "                          trans_num   unix_time  merch_lat  merch_long  \\\n",
       "0  2da90c7d74bd46a0caf3777415b3ebd3  1371816865  33.986391  -81.200714   \n",
       "1  324cc204407e99f51b0d6ca0055005e7  1371816873  39.450498 -109.960431   \n",
       "2  c81755dbbbea9d5c77f094348a7579be  1371816893  40.495810  -74.196111   \n",
       "3  2159175b9efe66dc301f149d3d5abf8c  1371816915  28.812398  -80.883061   \n",
       "4  57ff021bd3f328f8738bb535c302a31b  1371816917  44.959148  -85.884734   \n",
       "\n",
       "   is_fraud  hour  \n",
       "0         0    12  \n",
       "1         0    12  \n",
       "2         0    12  \n",
       "3         0    12  \n",
       "4         0    12  \n",
       "\n",
       "[5 rows x 23 columns]"
      ]
     },
     "execution_count": 15,
     "metadata": {},
     "output_type": "execute_result"
    }
   ],
   "source": [
    "dff.head()"
   ]
  },
  {
   "cell_type": "markdown",
   "id": "choice-stylus",
   "metadata": {},
   "source": [
    "## at which hour of the day do you find more fraud has occurred"
   ]
  },
  {
   "cell_type": "code",
   "execution_count": 18,
   "id": "comfortable-swedish",
   "metadata": {},
   "outputs": [
    {
     "data": {
      "text/plain": [
       "Text(0, 0.5, 'fraud')"
      ]
     },
     "execution_count": 18,
     "metadata": {},
     "output_type": "execute_result"
    },
    {
     "data": {
      "image/png": "[encoded data removed]",
      "text/plain": [
       "<Figure size 720x504 with 1 Axes>"
      ]
     },
     "metadata": {
      "needs_background": "light"
     },
     "output_type": "display_data"
    }
   ],
   "source": [
    "# desirable = data[data['metascore'] > 90].sort_values(by=['metascore'],ascending=False)\n",
    "dff3=dff[dff[\"is_fraud\"]>0].groupby(['hour']).aggregate(['count'])['is_fraud'].sort_values(by=['count'],ascending=False).plot(kind='bar',\n",
    "                                                                                                             figsize=(10,7))\n",
    "plt.xlabel('hour')\n",
    "plt.ylabel(\"fraud\")\n"
   ]
  },
  {
   "cell_type": "markdown",
   "id": "constant-literature",
   "metadata": {},
   "source": [
    "## so most of the fraud occur at 11:00 PM (23:00) "
   ]
  },
  {
   "cell_type": "code",
   "execution_count": 16,
   "id": "noted-stadium",
   "metadata": {},
   "outputs": [
    {
     "data": {
      "text/html": [
       "<div>\n",
       "<style scoped>\n",
       "    .dataframe tbody tr th:only-of-type {\n",
       "        vertical-align: middle;\n",
       "    }\n",
       "\n",
       "    .dataframe tbody tr th {\n",
       "        vertical-align: top;\n",
       "    }\n",
       "\n",
       "    .dataframe thead th {\n",
       "        text-align: right;\n",
       "    }\n",
       "</style>\n",
       "<table border=\"1\" class=\"dataframe\">\n",
       "  <thead>\n",
       "    <tr style=\"text-align: right;\">\n",
       "      <th></th>\n",
       "      <th>trans_date_trans_time</th>\n",
       "      <th>cc_num</th>\n",
       "      <th>merchant</th>\n",
       "      <th>category</th>\n",
       "      <th>amt</th>\n",
       "      <th>first</th>\n",
       "      <th>last</th>\n",
       "      <th>gender</th>\n",
       "      <th>street</th>\n",
       "      <th>city</th>\n",
       "      <th>...</th>\n",
       "      <th>long</th>\n",
       "      <th>city_pop</th>\n",
       "      <th>job</th>\n",
       "      <th>dob</th>\n",
       "      <th>trans_num</th>\n",
       "      <th>unix_time</th>\n",
       "      <th>merch_lat</th>\n",
       "      <th>merch_long</th>\n",
       "      <th>is_fraud</th>\n",
       "      <th>hour</th>\n",
       "    </tr>\n",
       "  </thead>\n",
       "  <tbody>\n",
       "    <tr>\n",
       "      <th>61416</th>\n",
       "      <td>2020-07-12 19:30:00</td>\n",
       "      <td>3551217896304740</td>\n",
       "      <td>fraud_Bahringer-Streich</td>\n",
       "      <td>food_dining</td>\n",
       "      <td>78.28</td>\n",
       "      <td>Sara</td>\n",
       "      <td>Harris</td>\n",
       "      <td>F</td>\n",
       "      <td>597 Jenny Ford Apt. 543</td>\n",
       "      <td>Tupper Lake</td>\n",
       "      <td>...</td>\n",
       "      <td>-74.4905</td>\n",
       "      <td>6120</td>\n",
       "      <td>Chartered loss adjuster</td>\n",
       "      <td>10/9/1976</td>\n",
       "      <td>54ce3f0a294365bb1a878ad0991d571d</td>\n",
       "      <td>1373657448</td>\n",
       "      <td>45.064273</td>\n",
       "      <td>-73.892743</td>\n",
       "      <td>0</td>\n",
       "      <td>19</td>\n",
       "    </tr>\n",
       "    <tr>\n",
       "      <th>61417</th>\n",
       "      <td>2020-07-12 19:31:00</td>\n",
       "      <td>676102124465</td>\n",
       "      <td>fraud_Walter, Hettinger and Kessler</td>\n",
       "      <td>personal_care</td>\n",
       "      <td>28.88</td>\n",
       "      <td>Natasha</td>\n",
       "      <td>Mclaughlin</td>\n",
       "      <td>F</td>\n",
       "      <td>8699 Lindsay Ford Apt. 486</td>\n",
       "      <td>Napa</td>\n",
       "      <td>...</td>\n",
       "      <td>-122.2564</td>\n",
       "      <td>94014</td>\n",
       "      <td>Airline pilot</td>\n",
       "      <td>8/21/1985</td>\n",
       "      <td>52f513be578c8ab672e7cd1620fcb7c2</td>\n",
       "      <td>1373657460</td>\n",
       "      <td>39.333584</td>\n",
       "      <td>-122.266391</td>\n",
       "      <td>0</td>\n",
       "      <td>19</td>\n",
       "    </tr>\n",
       "    <tr>\n",
       "      <th>61418</th>\n",
       "      <td>2020-07-12 19:31:00</td>\n",
       "      <td>30197398657930</td>\n",
       "      <td>fraud_Jast-McDermott</td>\n",
       "      <td>shopping_pos</td>\n",
       "      <td>2.36</td>\n",
       "      <td>April</td>\n",
       "      <td>Johnson</td>\n",
       "      <td>F</td>\n",
       "      <td>9727 Deleon Mountain</td>\n",
       "      <td>Creedmoor</td>\n",
       "      <td>...</td>\n",
       "      <td>-78.6476</td>\n",
       "      <td>12335</td>\n",
       "      <td>Chief Strategy Officer</td>\n",
       "      <td>9/19/1987</td>\n",
       "      <td>b51a23b15ee6b3b614f6727f2c36de4f</td>\n",
       "      <td>1373657463</td>\n",
       "      <td>36.799299</td>\n",
       "      <td>-78.725859</td>\n",
       "      <td>0</td>\n",
       "      <td>19</td>\n",
       "    </tr>\n",
       "    <tr>\n",
       "      <th>61419</th>\n",
       "      <td>2020-07-12 19:31:00</td>\n",
       "      <td>379897244598068</td>\n",
       "      <td>fraud_Emmerich-Rau</td>\n",
       "      <td>personal_care</td>\n",
       "      <td>17.18</td>\n",
       "      <td>Frank</td>\n",
       "      <td>Key</td>\n",
       "      <td>M</td>\n",
       "      <td>5537 Jessica Plaza</td>\n",
       "      <td>Pewee Valley</td>\n",
       "      <td>...</td>\n",
       "      <td>-85.4834</td>\n",
       "      <td>3263</td>\n",
       "      <td>Stage manager</td>\n",
       "      <td>2/28/1930</td>\n",
       "      <td>06e65b84f1d72b4657f43e687abf04b4</td>\n",
       "      <td>1373657465</td>\n",
       "      <td>38.173806</td>\n",
       "      <td>-84.962561</td>\n",
       "      <td>0</td>\n",
       "      <td>19</td>\n",
       "    </tr>\n",
       "    <tr>\n",
       "      <th>61420</th>\n",
       "      <td>2020-07-12 19:31:00</td>\n",
       "      <td>376445266762684</td>\n",
       "      <td>fraud_Altenwerth-Kilback</td>\n",
       "      <td>home</td>\n",
       "      <td>12.99</td>\n",
       "      <td>Rachel</td>\n",
       "      <td>Lowe</td>\n",
       "      <td>F</td>\n",
       "      <td>372 Jeffrey Course</td>\n",
       "      <td>Sutherland</td>\n",
       "      <td>...</td>\n",
       "      <td>-101.1360</td>\n",
       "      <td>1789</td>\n",
       "      <td>Insurance broker</td>\n",
       "      <td>2/11/1982</td>\n",
       "      <td>871ab546b6d9b5ec11ae45b79855a94b</td>\n",
       "      <td>1373657475</td>\n",
       "      <td>41.795594</td>\n",
       "      <td>-100.550790</td>\n",
       "      <td>0</td>\n",
       "      <td>19</td>\n",
       "    </tr>\n",
       "  </tbody>\n",
       "</table>\n",
       "<p>5 rows × 23 columns</p>\n",
       "</div>"
      ],
      "text/plain": [
       "      trans_date_trans_time            cc_num  \\\n",
       "61416   2020-07-12 19:30:00  3551217896304740   \n",
       "61417   2020-07-12 19:31:00      676102124465   \n",
       "61418   2020-07-12 19:31:00    30197398657930   \n",
       "61419   2020-07-12 19:31:00   379897244598068   \n",
       "61420   2020-07-12 19:31:00   376445266762684   \n",
       "\n",
       "                                  merchant       category    amt    first  \\\n",
       "61416              fraud_Bahringer-Streich    food_dining  78.28     Sara   \n",
       "61417  fraud_Walter, Hettinger and Kessler  personal_care  28.88  Natasha   \n",
       "61418                 fraud_Jast-McDermott   shopping_pos   2.36    April   \n",
       "61419                   fraud_Emmerich-Rau  personal_care  17.18    Frank   \n",
       "61420             fraud_Altenwerth-Kilback           home  12.99   Rachel   \n",
       "\n",
       "             last gender                      street          city  ...  \\\n",
       "61416      Harris      F     597 Jenny Ford Apt. 543   Tupper Lake  ...   \n",
       "61417  Mclaughlin      F  8699 Lindsay Ford Apt. 486          Napa  ...   \n",
       "61418     Johnson      F        9727 Deleon Mountain     Creedmoor  ...   \n",
       "61419         Key      M          5537 Jessica Plaza  Pewee Valley  ...   \n",
       "61420        Lowe      F          372 Jeffrey Course    Sutherland  ...   \n",
       "\n",
       "           long  city_pop                      job        dob  \\\n",
       "61416  -74.4905      6120  Chartered loss adjuster  10/9/1976   \n",
       "61417 -122.2564     94014            Airline pilot  8/21/1985   \n",
       "61418  -78.6476     12335   Chief Strategy Officer  9/19/1987   \n",
       "61419  -85.4834      3263            Stage manager  2/28/1930   \n",
       "61420 -101.1360      1789         Insurance broker  2/11/1982   \n",
       "\n",
       "                              trans_num   unix_time  merch_lat  merch_long  \\\n",
       "61416  54ce3f0a294365bb1a878ad0991d571d  1373657448  45.064273  -73.892743   \n",
       "61417  52f513be578c8ab672e7cd1620fcb7c2  1373657460  39.333584 -122.266391   \n",
       "61418  b51a23b15ee6b3b614f6727f2c36de4f  1373657463  36.799299  -78.725859   \n",
       "61419  06e65b84f1d72b4657f43e687abf04b4  1373657465  38.173806  -84.962561   \n",
       "61420  871ab546b6d9b5ec11ae45b79855a94b  1373657475  41.795594 -100.550790   \n",
       "\n",
       "       is_fraud  hour  \n",
       "61416         0    19  \n",
       "61417         0    19  \n",
       "61418         0    19  \n",
       "61419         0    19  \n",
       "61420         0    19  \n",
       "\n",
       "[5 rows x 23 columns]"
      ]
     },
     "execution_count": 16,
     "metadata": {},
     "output_type": "execute_result"
    }
   ],
   "source": [
    "dff.tail()"
   ]
  },
  {
   "cell_type": "code",
   "execution_count": 17,
   "id": "single-change",
   "metadata": {},
   "outputs": [
    {
     "data": {
      "text/plain": [
       "61421"
      ]
     },
     "execution_count": 17,
     "metadata": {},
     "output_type": "execute_result"
    }
   ],
   "source": [
    "len(dff)"
   ]
  },
  {
   "cell_type": "markdown",
   "id": "reserved-burst",
   "metadata": {},
   "source": [
    "## which gender spends more in health_fitness."
   ]
  },
  {
   "cell_type": "code",
   "execution_count": 19,
   "id": "cellular-bridges",
   "metadata": {},
   "outputs": [],
   "source": [
    "mal=0\n",
    "femal=0\n",
    "for i in range(0,len(dff)):\n",
    "    if dff['category'][i]==\"health_fitness\":\n",
    "        if dff['gender'][i]==\"M\":\n",
    "            mal=mal+1\n",
    "        else:\n",
    "            femal=femal+1"
   ]
  },
  {
   "cell_type": "code",
   "execution_count": 20,
   "id": "specialized-springfield",
   "metadata": {},
   "outputs": [
    {
     "name": "stdout",
     "output_type": "stream",
     "text": [
      "1939\n",
      "2220\n"
     ]
    }
   ],
   "source": [
    "print(mal)\n",
    "print(femal)"
   ]
  },
  {
   "cell_type": "markdown",
   "id": "advanced-chocolate",
   "metadata": {},
   "source": [
    "### Hence, Female spend more in health fitness"
   ]
  },
  {
   "cell_type": "code",
   "execution_count": 21,
   "id": "binary-defeat",
   "metadata": {},
   "outputs": [
    {
     "data": {
      "text/plain": [
       "gas_transport     6172\n",
       "home              5795\n",
       "grocery_pos       5658\n",
       "shopping_pos      5444\n",
       "kids_pets         5440\n",
       "shopping_net      4702\n",
       "entertainment     4464\n",
       "food_dining       4459\n",
       "personal_care     4393\n",
       "health_fitness    4159\n",
       "misc_pos          3801\n",
       "misc_net          2915\n",
       "grocery_net       2092\n",
       "travel            1927\n",
       "Name: category, dtype: int64"
      ]
     },
     "execution_count": 21,
     "metadata": {},
     "output_type": "execute_result"
    }
   ],
   "source": [
    "dff['category'].value_counts()"
   ]
  },
  {
   "cell_type": "markdown",
   "id": "warming-concentrate",
   "metadata": {},
   "source": [
    "## dataset highly imbalanced"
   ]
  },
  {
   "cell_type": "code",
   "execution_count": 65,
   "id": "advisory-resistance",
   "metadata": {},
   "outputs": [
    {
     "data": {
      "text/plain": [
       "0    61167\n",
       "1      254\n",
       "Name: is_fraud, dtype: int64"
      ]
     },
     "execution_count": 65,
     "metadata": {},
     "output_type": "execute_result"
    }
   ],
   "source": [
    "dff['is_fraud'].value_counts()"
   ]
  },
  {
   "cell_type": "code",
   "execution_count": 22,
   "id": "figured-contrast",
   "metadata": {},
   "outputs": [],
   "source": [
    "# separating the data\n",
    "legit = dff[dff.is_fraud == 0]\n",
    "fraud = dff[dff.is_fraud == 1]"
   ]
  },
  {
   "cell_type": "code",
   "execution_count": 23,
   "id": "attended-turtle",
   "metadata": {},
   "outputs": [],
   "source": [
    "legit_sample = legit.sample(n=254)"
   ]
  },
  {
   "cell_type": "code",
   "execution_count": 24,
   "id": "exotic-portrait",
   "metadata": {},
   "outputs": [],
   "source": [
    "new_dataset = pd.concat([legit_sample, fraud], axis=0)"
   ]
  },
  {
   "cell_type": "code",
   "execution_count": 25,
   "id": "approximate-prior",
   "metadata": {},
   "outputs": [
    {
     "data": {
      "text/html": [
       "<div>\n",
       "<style scoped>\n",
       "    .dataframe tbody tr th:only-of-type {\n",
       "        vertical-align: middle;\n",
       "    }\n",
       "\n",
       "    .dataframe tbody tr th {\n",
       "        vertical-align: top;\n",
       "    }\n",
       "\n",
       "    .dataframe thead th {\n",
       "        text-align: right;\n",
       "    }\n",
       "</style>\n",
       "<table border=\"1\" class=\"dataframe\">\n",
       "  <thead>\n",
       "    <tr style=\"text-align: right;\">\n",
       "      <th></th>\n",
       "      <th>trans_date_trans_time</th>\n",
       "      <th>cc_num</th>\n",
       "      <th>merchant</th>\n",
       "      <th>category</th>\n",
       "      <th>amt</th>\n",
       "      <th>first</th>\n",
       "      <th>last</th>\n",
       "      <th>gender</th>\n",
       "      <th>street</th>\n",
       "      <th>city</th>\n",
       "      <th>...</th>\n",
       "      <th>long</th>\n",
       "      <th>city_pop</th>\n",
       "      <th>job</th>\n",
       "      <th>dob</th>\n",
       "      <th>trans_num</th>\n",
       "      <th>unix_time</th>\n",
       "      <th>merch_lat</th>\n",
       "      <th>merch_long</th>\n",
       "      <th>is_fraud</th>\n",
       "      <th>hour</th>\n",
       "    </tr>\n",
       "  </thead>\n",
       "  <tbody>\n",
       "    <tr>\n",
       "      <th>39956</th>\n",
       "      <td>2020-07-05 12:02:00</td>\n",
       "      <td>4181833256558610000</td>\n",
       "      <td>fraud_Schuppe-Schuppe</td>\n",
       "      <td>food_dining</td>\n",
       "      <td>1.99</td>\n",
       "      <td>Jessica</td>\n",
       "      <td>Potter</td>\n",
       "      <td>F</td>\n",
       "      <td>7600 Stephen Course Suite 031</td>\n",
       "      <td>Red River</td>\n",
       "      <td>...</td>\n",
       "      <td>-105.4694</td>\n",
       "      <td>606</td>\n",
       "      <td>Surveyor, land/geomatics</td>\n",
       "      <td>9/6/1988</td>\n",
       "      <td>f895dcf96e243d6f3d16374a1eb35fa5</td>\n",
       "      <td>1373025751</td>\n",
       "      <td>37.628134</td>\n",
       "      <td>-106.232851</td>\n",
       "      <td>0</td>\n",
       "      <td>12</td>\n",
       "    </tr>\n",
       "    <tr>\n",
       "      <th>43583</th>\n",
       "      <td>2020-07-06 11:48:00</td>\n",
       "      <td>377993105397617</td>\n",
       "      <td>fraud_Streich, Hansen and Veum</td>\n",
       "      <td>gas_transport</td>\n",
       "      <td>91.78</td>\n",
       "      <td>Nathan</td>\n",
       "      <td>Martinez</td>\n",
       "      <td>M</td>\n",
       "      <td>586 Thomas Cliffs</td>\n",
       "      <td>Oconto Falls</td>\n",
       "      <td>...</td>\n",
       "      <td>-88.1555</td>\n",
       "      <td>5548</td>\n",
       "      <td>Mining engineer</td>\n",
       "      <td>9/11/1975</td>\n",
       "      <td>46641ac935ae191c7938ba3593a46753</td>\n",
       "      <td>1373111335</td>\n",
       "      <td>45.358061</td>\n",
       "      <td>-89.078545</td>\n",
       "      <td>0</td>\n",
       "      <td>11</td>\n",
       "    </tr>\n",
       "    <tr>\n",
       "      <th>39492</th>\n",
       "      <td>2020-07-05 08:03:00</td>\n",
       "      <td>341283058448499</td>\n",
       "      <td>fraud_Cartwright-Harris</td>\n",
       "      <td>grocery_pos</td>\n",
       "      <td>124.76</td>\n",
       "      <td>Mario</td>\n",
       "      <td>Johns</td>\n",
       "      <td>M</td>\n",
       "      <td>62130 Miller Square Suite 785</td>\n",
       "      <td>Brinson</td>\n",
       "      <td>...</td>\n",
       "      <td>-84.7373</td>\n",
       "      <td>1461</td>\n",
       "      <td>Engineer, broadcasting (operations)</td>\n",
       "      <td>9/8/1935</td>\n",
       "      <td>1a2578a3fc6fa43ee508871b339336fc</td>\n",
       "      <td>1373011419</td>\n",
       "      <td>30.567334</td>\n",
       "      <td>-83.966117</td>\n",
       "      <td>0</td>\n",
       "      <td>8</td>\n",
       "    </tr>\n",
       "    <tr>\n",
       "      <th>48506</th>\n",
       "      <td>2020-07-07 15:54:00</td>\n",
       "      <td>4229733778084040</td>\n",
       "      <td>fraud_Terry, Johns and Bins</td>\n",
       "      <td>misc_pos</td>\n",
       "      <td>3.87</td>\n",
       "      <td>Tyler</td>\n",
       "      <td>Mills</td>\n",
       "      <td>M</td>\n",
       "      <td>7838 Jason Squares</td>\n",
       "      <td>Elizabethtown</td>\n",
       "      <td>...</td>\n",
       "      <td>-85.8784</td>\n",
       "      <td>48194</td>\n",
       "      <td>Surgeon</td>\n",
       "      <td>5/3/1990</td>\n",
       "      <td>0da8ed29abb3a4cd780c0b5273b94452</td>\n",
       "      <td>1373212477</td>\n",
       "      <td>37.418471</td>\n",
       "      <td>-85.659590</td>\n",
       "      <td>0</td>\n",
       "      <td>15</td>\n",
       "    </tr>\n",
       "    <tr>\n",
       "      <th>17877</th>\n",
       "      <td>2020-06-27 17:34:00</td>\n",
       "      <td>213157767990030</td>\n",
       "      <td>fraud_Connelly PLC</td>\n",
       "      <td>food_dining</td>\n",
       "      <td>45.06</td>\n",
       "      <td>Tara</td>\n",
       "      <td>Campbell</td>\n",
       "      <td>F</td>\n",
       "      <td>05050 Rogers Well Apt. 439</td>\n",
       "      <td>Rock Springs</td>\n",
       "      <td>...</td>\n",
       "      <td>-109.2300</td>\n",
       "      <td>27971</td>\n",
       "      <td>Music therapist</td>\n",
       "      <td>8/1/1984</td>\n",
       "      <td>dbd7c11ee888f37ffbf3841df7eb0531</td>\n",
       "      <td>1372354446</td>\n",
       "      <td>41.555241</td>\n",
       "      <td>-109.330323</td>\n",
       "      <td>0</td>\n",
       "      <td>17</td>\n",
       "    </tr>\n",
       "  </tbody>\n",
       "</table>\n",
       "<p>5 rows × 23 columns</p>\n",
       "</div>"
      ],
      "text/plain": [
       "      trans_date_trans_time               cc_num  \\\n",
       "39956   2020-07-05 12:02:00  4181833256558610000   \n",
       "43583   2020-07-06 11:48:00      377993105397617   \n",
       "39492   2020-07-05 08:03:00      341283058448499   \n",
       "48506   2020-07-07 15:54:00     4229733778084040   \n",
       "17877   2020-06-27 17:34:00      213157767990030   \n",
       "\n",
       "                             merchant       category     amt    first  \\\n",
       "39956           fraud_Schuppe-Schuppe    food_dining    1.99  Jessica   \n",
       "43583  fraud_Streich, Hansen and Veum  gas_transport   91.78   Nathan   \n",
       "39492         fraud_Cartwright-Harris    grocery_pos  124.76    Mario   \n",
       "48506     fraud_Terry, Johns and Bins       misc_pos    3.87    Tyler   \n",
       "17877              fraud_Connelly PLC    food_dining   45.06     Tara   \n",
       "\n",
       "           last gender                         street           city  ...  \\\n",
       "39956    Potter      F  7600 Stephen Course Suite 031      Red River  ...   \n",
       "43583  Martinez      M              586 Thomas Cliffs   Oconto Falls  ...   \n",
       "39492     Johns      M  62130 Miller Square Suite 785        Brinson  ...   \n",
       "48506     Mills      M             7838 Jason Squares  Elizabethtown  ...   \n",
       "17877  Campbell      F     05050 Rogers Well Apt. 439   Rock Springs  ...   \n",
       "\n",
       "           long  city_pop                                  job        dob  \\\n",
       "39956 -105.4694       606             Surveyor, land/geomatics   9/6/1988   \n",
       "43583  -88.1555      5548                      Mining engineer  9/11/1975   \n",
       "39492  -84.7373      1461  Engineer, broadcasting (operations)   9/8/1935   \n",
       "48506  -85.8784     48194                              Surgeon   5/3/1990   \n",
       "17877 -109.2300     27971                      Music therapist   8/1/1984   \n",
       "\n",
       "                              trans_num   unix_time  merch_lat  merch_long  \\\n",
       "39956  f895dcf96e243d6f3d16374a1eb35fa5  1373025751  37.628134 -106.232851   \n",
       "43583  46641ac935ae191c7938ba3593a46753  1373111335  45.358061  -89.078545   \n",
       "39492  1a2578a3fc6fa43ee508871b339336fc  1373011419  30.567334  -83.966117   \n",
       "48506  0da8ed29abb3a4cd780c0b5273b94452  1373212477  37.418471  -85.659590   \n",
       "17877  dbd7c11ee888f37ffbf3841df7eb0531  1372354446  41.555241 -109.330323   \n",
       "\n",
       "       is_fraud  hour  \n",
       "39956         0    12  \n",
       "43583         0    11  \n",
       "39492         0     8  \n",
       "48506         0    15  \n",
       "17877         0    17  \n",
       "\n",
       "[5 rows x 23 columns]"
      ]
     },
     "execution_count": 25,
     "metadata": {},
     "output_type": "execute_result"
    }
   ],
   "source": [
    "new_dataset.head()"
   ]
  },
  {
   "cell_type": "markdown",
   "id": "beautiful-challenge",
   "metadata": {},
   "source": [
    "## dataset become balanced"
   ]
  },
  {
   "cell_type": "code",
   "execution_count": 26,
   "id": "distant-bones",
   "metadata": {},
   "outputs": [
    {
     "data": {
      "text/plain": [
       "0    254\n",
       "1    254\n",
       "Name: is_fraud, dtype: int64"
      ]
     },
     "execution_count": 26,
     "metadata": {},
     "output_type": "execute_result"
    }
   ],
   "source": [
    "new_dataset['is_fraud'].value_counts()"
   ]
  },
  {
   "cell_type": "code",
   "execution_count": null,
   "id": "italic-orientation",
   "metadata": {},
   "outputs": [],
   "source": []
  },
  {
   "cell_type": "code",
   "execution_count": 27,
   "id": "chief-concern",
   "metadata": {},
   "outputs": [
    {
     "name": "stdout",
     "output_type": "stream",
     "text": [
      "<class 'pandas.core.frame.DataFrame'>\n",
      "Int64Index: 508 entries, 39956 to 60747\n",
      "Data columns (total 23 columns):\n",
      " #   Column                 Non-Null Count  Dtype         \n",
      "---  ------                 --------------  -----         \n",
      " 0   trans_date_trans_time  508 non-null    datetime64[ns]\n",
      " 1   cc_num                 508 non-null    int64         \n",
      " 2   merchant               508 non-null    object        \n",
      " 3   category               508 non-null    object        \n",
      " 4   amt                    508 non-null    float64       \n",
      " 5   first                  508 non-null    object        \n",
      " 6   last                   508 non-null    object        \n",
      " 7   gender                 508 non-null    object        \n",
      " 8   street                 508 non-null    object        \n",
      " 9   city                   508 non-null    object        \n",
      " 10  state                  508 non-null    object        \n",
      " 11  zip                    508 non-null    int64         \n",
      " 12  lat                    508 non-null    float64       \n",
      " 13  long                   508 non-null    float64       \n",
      " 14  city_pop               508 non-null    int64         \n",
      " 15  job                    508 non-null    object        \n",
      " 16  dob                    508 non-null    object        \n",
      " 17  trans_num              508 non-null    object        \n",
      " 18  unix_time              508 non-null    int64         \n",
      " 19  merch_lat              508 non-null    float64       \n",
      " 20  merch_long             508 non-null    float64       \n",
      " 21  is_fraud               508 non-null    int64         \n",
      " 22  hour                   508 non-null    int64         \n",
      "dtypes: datetime64[ns](1), float64(5), int64(6), object(11)\n",
      "memory usage: 95.2+ KB\n"
     ]
    }
   ],
   "source": [
    "new_dataset.info()"
   ]
  },
  {
   "cell_type": "code",
   "execution_count": 28,
   "id": "paperback-editing",
   "metadata": {},
   "outputs": [
    {
     "data": {
      "text/plain": [
       "Chief Strategy Officer       17\n",
       "Chiropodist                  15\n",
       "Exercise physiologist        15\n",
       "Archaeologist                15\n",
       "Psychiatric nurse            14\n",
       "                             ..\n",
       "Drilling engineer             1\n",
       "Geologist, wellsite           1\n",
       "Engineer, mining              1\n",
       "Occupational psychologist     1\n",
       "Art gallery manager           1\n",
       "Name: job, Length: 194, dtype: int64"
      ]
     },
     "execution_count": 28,
     "metadata": {},
     "output_type": "execute_result"
    }
   ],
   "source": [
    "new_dataset['job'].value_counts()"
   ]
  },
  {
   "cell_type": "code",
   "execution_count": 29,
   "id": "considered-pantyhose",
   "metadata": {},
   "outputs": [],
   "source": [
    "from sklearn.preprocessing import LabelEncoder\n",
    " \n",
    "# Creating a instance of label Encoder.\n",
    "le = LabelEncoder()\n",
    " \n",
    "# Using .fit_transform function to fit label\n",
    "# encoder and return encoded label\n",
    "label = le.fit_transform(new_dataset['city'])\n",
    "\n",
    "# removing the column 'Purchased' from df\n",
    "# as it is of no use now.\n",
    "new_dataset.drop(\"city\", axis=1, inplace=True)\n",
    " \n",
    "# Appending the array to our dataFrame\n",
    "# with column name 'Purchased'\n",
    "new_dataset['city'] = label"
   ]
  },
  {
   "cell_type": "code",
   "execution_count": 30,
   "id": "after-microphone",
   "metadata": {},
   "outputs": [],
   "source": [
    "le = LabelEncoder()\n",
    "label = le.fit_transform(new_dataset['merchant'])\n",
    "new_dataset.drop(\"merchant\", axis=1, inplace=True)\n",
    "new_dataset['merchant'] = label\n",
    "\n",
    "le = LabelEncoder()\n",
    "label = le.fit_transform(new_dataset['gender'])\n",
    "new_dataset.drop(\"gender\", axis=1, inplace=True)\n",
    "new_dataset['gender'] = label\n",
    "\n",
    "le = LabelEncoder()\n",
    "label = le.fit_transform(new_dataset['category'])\n",
    "new_dataset.drop(\"category\", axis=1, inplace=True)\n",
    "new_dataset['category'] = label\n",
    "\n",
    "le = LabelEncoder()\n",
    "label = le.fit_transform(new_dataset['job'])\n",
    "new_dataset.drop(\"job\", axis=1, inplace=True)\n",
    "new_dataset['job'] = label\n",
    "\n",
    "le = LabelEncoder()\n",
    "label = le.fit_transform(new_dataset['state'])\n",
    "new_dataset.drop(\"state\", axis=1, inplace=True)\n",
    "new_dataset['state'] = label"
   ]
  },
  {
   "cell_type": "code",
   "execution_count": 31,
   "id": "persistent-tobacco",
   "metadata": {},
   "outputs": [],
   "source": [
    "new_dataset=new_dataset.drop(['trans_date_trans_time', 'first','last','dob','street','trans_num'], axis=1)"
   ]
  },
  {
   "cell_type": "code",
   "execution_count": 32,
   "id": "dedicated-appliance",
   "metadata": {},
   "outputs": [
    {
     "name": "stdout",
     "output_type": "stream",
     "text": [
      "<class 'pandas.core.frame.DataFrame'>\n",
      "Int64Index: 508 entries, 39956 to 60747\n",
      "Data columns (total 17 columns):\n",
      " #   Column      Non-Null Count  Dtype  \n",
      "---  ------      --------------  -----  \n",
      " 0   cc_num      508 non-null    int64  \n",
      " 1   amt         508 non-null    float64\n",
      " 2   zip         508 non-null    int64  \n",
      " 3   lat         508 non-null    float64\n",
      " 4   long        508 non-null    float64\n",
      " 5   city_pop    508 non-null    int64  \n",
      " 6   unix_time   508 non-null    int64  \n",
      " 7   merch_lat   508 non-null    float64\n",
      " 8   merch_long  508 non-null    float64\n",
      " 9   is_fraud    508 non-null    int64  \n",
      " 10  hour        508 non-null    int64  \n",
      " 11  city        508 non-null    int64  \n",
      " 12  merchant    508 non-null    int64  \n",
      " 13  gender      508 non-null    int64  \n",
      " 14  category    508 non-null    int64  \n",
      " 15  job         508 non-null    int64  \n",
      " 16  state       508 non-null    int64  \n",
      "dtypes: float64(5), int64(12)\n",
      "memory usage: 71.4 KB\n"
     ]
    }
   ],
   "source": [
    "new_dataset.info()"
   ]
  },
  {
   "cell_type": "code",
   "execution_count": 33,
   "id": "operating-skirt",
   "metadata": {},
   "outputs": [
    {
     "data": {
      "text/html": [
       "<div>\n",
       "<style scoped>\n",
       "    .dataframe tbody tr th:only-of-type {\n",
       "        vertical-align: middle;\n",
       "    }\n",
       "\n",
       "    .dataframe tbody tr th {\n",
       "        vertical-align: top;\n",
       "    }\n",
       "\n",
       "    .dataframe thead th {\n",
       "        text-align: right;\n",
       "    }\n",
       "</style>\n",
       "<table border=\"1\" class=\"dataframe\">\n",
       "  <thead>\n",
       "    <tr style=\"text-align: right;\">\n",
       "      <th></th>\n",
       "      <th>cc_num</th>\n",
       "      <th>amt</th>\n",
       "      <th>zip</th>\n",
       "      <th>lat</th>\n",
       "      <th>long</th>\n",
       "      <th>city_pop</th>\n",
       "      <th>unix_time</th>\n",
       "      <th>merch_lat</th>\n",
       "      <th>merch_long</th>\n",
       "      <th>is_fraud</th>\n",
       "      <th>hour</th>\n",
       "      <th>city</th>\n",
       "      <th>merchant</th>\n",
       "      <th>gender</th>\n",
       "      <th>category</th>\n",
       "      <th>job</th>\n",
       "      <th>state</th>\n",
       "    </tr>\n",
       "  </thead>\n",
       "  <tbody>\n",
       "    <tr>\n",
       "      <th>39956</th>\n",
       "      <td>4181833256558610000</td>\n",
       "      <td>1.99</td>\n",
       "      <td>87558</td>\n",
       "      <td>36.6659</td>\n",
       "      <td>-105.4694</td>\n",
       "      <td>606</td>\n",
       "      <td>1373025751</td>\n",
       "      <td>37.628134</td>\n",
       "      <td>-106.232851</td>\n",
       "      <td>0</td>\n",
       "      <td>12</td>\n",
       "      <td>161</td>\n",
       "      <td>285</td>\n",
       "      <td>0</td>\n",
       "      <td>1</td>\n",
       "      <td>173</td>\n",
       "      <td>26</td>\n",
       "    </tr>\n",
       "    <tr>\n",
       "      <th>43583</th>\n",
       "      <td>377993105397617</td>\n",
       "      <td>91.78</td>\n",
       "      <td>54154</td>\n",
       "      <td>44.8755</td>\n",
       "      <td>-88.1555</td>\n",
       "      <td>5548</td>\n",
       "      <td>1373111335</td>\n",
       "      <td>45.358061</td>\n",
       "      <td>-89.078545</td>\n",
       "      <td>0</td>\n",
       "      <td>11</td>\n",
       "      <td>144</td>\n",
       "      <td>294</td>\n",
       "      <td>1</td>\n",
       "      <td>2</td>\n",
       "      <td>118</td>\n",
       "      <td>40</td>\n",
       "    </tr>\n",
       "    <tr>\n",
       "      <th>39492</th>\n",
       "      <td>341283058448499</td>\n",
       "      <td>124.76</td>\n",
       "      <td>39825</td>\n",
       "      <td>30.9788</td>\n",
       "      <td>-84.7373</td>\n",
       "      <td>1461</td>\n",
       "      <td>1373011419</td>\n",
       "      <td>30.567334</td>\n",
       "      <td>-83.966117</td>\n",
       "      <td>0</td>\n",
       "      <td>8</td>\n",
       "      <td>22</td>\n",
       "      <td>49</td>\n",
       "      <td>1</td>\n",
       "      <td>4</td>\n",
       "      <td>66</td>\n",
       "      <td>6</td>\n",
       "    </tr>\n",
       "    <tr>\n",
       "      <th>48506</th>\n",
       "      <td>4229733778084040</td>\n",
       "      <td>3.87</td>\n",
       "      <td>42701</td>\n",
       "      <td>37.6848</td>\n",
       "      <td>-85.8784</td>\n",
       "      <td>48194</td>\n",
       "      <td>1373212477</td>\n",
       "      <td>37.418471</td>\n",
       "      <td>-85.659590</td>\n",
       "      <td>0</td>\n",
       "      <td>15</td>\n",
       "      <td>54</td>\n",
       "      <td>301</td>\n",
       "      <td>1</td>\n",
       "      <td>9</td>\n",
       "      <td>172</td>\n",
       "      <td>12</td>\n",
       "    </tr>\n",
       "    <tr>\n",
       "      <th>17877</th>\n",
       "      <td>213157767990030</td>\n",
       "      <td>45.06</td>\n",
       "      <td>82901</td>\n",
       "      <td>41.6060</td>\n",
       "      <td>-109.2300</td>\n",
       "      <td>27971</td>\n",
       "      <td>1372354446</td>\n",
       "      <td>41.555241</td>\n",
       "      <td>-109.330323</td>\n",
       "      <td>0</td>\n",
       "      <td>17</td>\n",
       "      <td>167</td>\n",
       "      <td>57</td>\n",
       "      <td>0</td>\n",
       "      <td>1</td>\n",
       "      <td>120</td>\n",
       "      <td>42</td>\n",
       "    </tr>\n",
       "  </tbody>\n",
       "</table>\n",
       "</div>"
      ],
      "text/plain": [
       "                    cc_num     amt    zip      lat      long  city_pop  \\\n",
       "39956  4181833256558610000    1.99  87558  36.6659 -105.4694       606   \n",
       "43583      377993105397617   91.78  54154  44.8755  -88.1555      5548   \n",
       "39492      341283058448499  124.76  39825  30.9788  -84.7373      1461   \n",
       "48506     4229733778084040    3.87  42701  37.6848  -85.8784     48194   \n",
       "17877      213157767990030   45.06  82901  41.6060 -109.2300     27971   \n",
       "\n",
       "        unix_time  merch_lat  merch_long  is_fraud  hour  city  merchant  \\\n",
       "39956  1373025751  37.628134 -106.232851         0    12   161       285   \n",
       "43583  1373111335  45.358061  -89.078545         0    11   144       294   \n",
       "39492  1373011419  30.567334  -83.966117         0     8    22        49   \n",
       "48506  1373212477  37.418471  -85.659590         0    15    54       301   \n",
       "17877  1372354446  41.555241 -109.330323         0    17   167        57   \n",
       "\n",
       "       gender  category  job  state  \n",
       "39956       0         1  173     26  \n",
       "43583       1         2  118     40  \n",
       "39492       1         4   66      6  \n",
       "48506       1         9  172     12  \n",
       "17877       0         1  120     42  "
      ]
     },
     "execution_count": 33,
     "metadata": {},
     "output_type": "execute_result"
    }
   ],
   "source": [
    "new_dataset.head()"
   ]
  },
  {
   "cell_type": "code",
   "execution_count": 34,
   "id": "russian-wedding",
   "metadata": {},
   "outputs": [],
   "source": [
    "new_dataset.reset_index(inplace = True)"
   ]
  },
  {
   "cell_type": "code",
   "execution_count": 35,
   "id": "prepared-south",
   "metadata": {},
   "outputs": [
    {
     "data": {
      "text/plain": [
       "0    298\n",
       "1    210\n",
       "Name: gender, dtype: int64"
      ]
     },
     "execution_count": 35,
     "metadata": {},
     "output_type": "execute_result"
    }
   ],
   "source": [
    "new_dataset['gender'].value_counts()"
   ]
  },
  {
   "cell_type": "code",
   "execution_count": null,
   "id": "ordinary-therapy",
   "metadata": {},
   "outputs": [],
   "source": []
  },
  {
   "cell_type": "code",
   "execution_count": 36,
   "id": "dominant-tolerance",
   "metadata": {},
   "outputs": [
    {
     "data": {
      "text/plain": [
       "159    15\n",
       "88     15\n",
       "205    14\n",
       "186    14\n",
       "38     13\n",
       "       ..\n",
       "90      1\n",
       "91      1\n",
       "93      1\n",
       "94      1\n",
       "217     1\n",
       "Name: city, Length: 218, dtype: int64"
      ]
     },
     "execution_count": 36,
     "metadata": {},
     "output_type": "execute_result"
    }
   ],
   "source": [
    "new_dataset['city'].value_counts()"
   ]
  },
  {
   "cell_type": "code",
   "execution_count": 37,
   "id": "cultural-outdoors",
   "metadata": {},
   "outputs": [],
   "source": [
    "#splitting of data into feature and target\n",
    "X = new_dataset.drop(columns='is_fraud', axis=1)\n",
    "Y = new_dataset['is_fraud']"
   ]
  },
  {
   "cell_type": "code",
   "execution_count": 38,
   "id": "completed-daily",
   "metadata": {},
   "outputs": [],
   "source": [
    "from sklearn.model_selection import train_test_split\n",
    "from sklearn.linear_model import LogisticRegression\n",
    "from sklearn.metrics import accuracy_score\n",
    "import numpy as np"
   ]
  },
  {
   "cell_type": "code",
   "execution_count": 39,
   "id": "amateur-brave",
   "metadata": {},
   "outputs": [],
   "source": [
    "from sklearn.preprocessing import StandardScaler\n",
    "scale = StandardScaler()\n",
    "scaledX = scale.fit_transform(X)"
   ]
  },
  {
   "cell_type": "code",
   "execution_count": 40,
   "id": "taken-library",
   "metadata": {},
   "outputs": [],
   "source": [
    "#Split the data into Training data & Testing Data\n",
    "X_train, X_test, Y_train, Y_test = train_test_split(X, Y, test_size=0.2, stratify=Y, random_state=2)"
   ]
  },
  {
   "cell_type": "code",
   "execution_count": 41,
   "id": "simplified-harvard",
   "metadata": {},
   "outputs": [
    {
     "name": "stdout",
     "output_type": "stream",
     "text": [
      "(508, 17) (406, 17) (102, 17)\n"
     ]
    }
   ],
   "source": [
    "print(X.shape, X_train.shape, X_test.shape)"
   ]
  },
  {
   "cell_type": "markdown",
   "id": "crude-spouse",
   "metadata": {},
   "source": [
    "# Explore different machine learning approach and finalize a best model using model evaluation techniques."
   ]
  },
  {
   "cell_type": "code",
   "execution_count": 42,
   "id": "upset-dress",
   "metadata": {},
   "outputs": [],
   "source": [
    "from sklearn.neighbors import KNeighborsClassifier\n",
    "from sklearn.ensemble import RandomForestClassifier\n",
    "from sklearn.tree import DecisionTreeClassifier\n",
    "from sklearn.linear_model import SGDClassifier\n",
    "from sklearn.model_selection import train_test_split\n",
    "from sklearn.metrics import classification_report\n",
    "from sklearn.preprocessing import StandardScaler\n",
    "from sklearn.model_selection import RandomizedSearchCV\n",
    "from sklearn.metrics import confusion_matrix"
   ]
  },
  {
   "cell_type": "markdown",
   "id": "accomplished-flour",
   "metadata": {},
   "source": [
    "## model evaluation metrics such as accuracy, precision, and recall"
   ]
  },
  {
   "cell_type": "code",
   "execution_count": 43,
   "id": "rational-albany",
   "metadata": {},
   "outputs": [
    {
     "name": "stdout",
     "output_type": "stream",
     "text": [
      "              precision    recall  f1-score   support\n",
      "\n",
      "           0       0.97      0.76      0.86        51\n",
      "           1       0.81      0.98      0.88        51\n",
      "\n",
      "    accuracy                           0.87       102\n",
      "   macro avg       0.89      0.87      0.87       102\n",
      "weighted avg       0.89      0.87      0.87       102\n",
      "\n"
     ]
    }
   ],
   "source": [
    "n3 = KNeighborsClassifier(n_neighbors = 3)\n",
    "n3.fit(X_train, Y_train)\n",
    "pred_n3 = n3.predict(X_test)\n",
    "print(classification_report(Y_test, pred_n3))"
   ]
  },
  {
   "cell_type": "code",
   "execution_count": 44,
   "id": "joint-receptor",
   "metadata": {},
   "outputs": [
    {
     "data": {
      "text/plain": [
       "0.8725490196078431"
      ]
     },
     "execution_count": 44,
     "metadata": {},
     "output_type": "execute_result"
    }
   ],
   "source": [
    "n3.score(X_test,Y_test)"
   ]
  },
  {
   "cell_type": "markdown",
   "id": "comparable-merchant",
   "metadata": {},
   "source": [
    "## confusion matrix using Heat map "
   ]
  },
  {
   "cell_type": "code",
   "execution_count": 45,
   "id": "serious-lesbian",
   "metadata": {},
   "outputs": [
    {
     "name": "stdout",
     "output_type": "stream",
     "text": [
      "KNN3 accuracy score:  87.25490196078431\n"
     ]
    },
    {
     "data": {
      "image/png": "[encoded data removed]",
      "text/plain": [
       "<Figure size 432x288 with 2 Axes>"
      ]
     },
     "metadata": {
      "needs_background": "light"
     },
     "output_type": "display_data"
    }
   ],
   "source": [
    "cm2 = confusion_matrix(Y_test,pred_n3)\n",
    "ax2 = seabornInstance.heatmap(cm2,annot=True)\n",
    "ax2.set(xlabel='predict', ylabel='true')\n",
    "pred2 = accuracy_score(Y_test,pred_n3)\n",
    "print(\"KNN3 accuracy score: \",pred2*100)"
   ]
  },
  {
   "cell_type": "markdown",
   "id": "regulation-guidance",
   "metadata": {},
   "source": [
    "## model evaluation metrics such as accuracy, precision, and recall"
   ]
  },
  {
   "cell_type": "code",
   "execution_count": 46,
   "id": "virtual-engine",
   "metadata": {},
   "outputs": [
    {
     "name": "stdout",
     "output_type": "stream",
     "text": [
      "              precision    recall  f1-score   support\n",
      "\n",
      "           0       0.95      0.71      0.81        51\n",
      "           1       0.77      0.96      0.85        51\n",
      "\n",
      "    accuracy                           0.83       102\n",
      "   macro avg       0.86      0.83      0.83       102\n",
      "weighted avg       0.86      0.83      0.83       102\n",
      "\n"
     ]
    },
    {
     "data": {
      "text/plain": [
       "0.8333333333333334"
      ]
     },
     "execution_count": 46,
     "metadata": {},
     "output_type": "execute_result"
    }
   ],
   "source": [
    "n5 = KNeighborsClassifier(n_neighbors = 5)\n",
    "n5.fit(X_train, Y_train)\n",
    "pred_n5 = n5.predict(X_test)\n",
    "print(classification_report(Y_test, pred_n5))\n",
    "n5.score(X_test,Y_test)"
   ]
  },
  {
   "cell_type": "code",
   "execution_count": 47,
   "id": "respiratory-saturday",
   "metadata": {},
   "outputs": [
    {
     "data": {
      "text/plain": [
       "array([[36, 15],\n",
       "       [ 2, 49]])"
      ]
     },
     "execution_count": 47,
     "metadata": {},
     "output_type": "execute_result"
    }
   ],
   "source": [
    "y_predicted = n5.predict(X_test)\n",
    "from sklearn.metrics import confusion_matrix\n",
    "cm = confusion_matrix(Y_test, y_predicted)\n",
    "cm"
   ]
  },
  {
   "cell_type": "markdown",
   "id": "rental-fraction",
   "metadata": {},
   "source": [
    "## confusion matrix using Heat map "
   ]
  },
  {
   "cell_type": "code",
   "execution_count": 48,
   "id": "expired-creator",
   "metadata": {},
   "outputs": [
    {
     "name": "stdout",
     "output_type": "stream",
     "text": [
      "KNN5 accuracy score:  83.33333333333334\n"
     ]
    },
    {
     "data": {
      "image/png": "[encoded data removed]",
      "text/plain": [
       "<Figure size 432x288 with 2 Axes>"
      ]
     },
     "metadata": {
      "needs_background": "light"
     },
     "output_type": "display_data"
    }
   ],
   "source": [
    "cm2 = confusion_matrix(Y_test,pred_n5)\n",
    "ax2 = seabornInstance.heatmap(cm2,annot=True)\n",
    "ax2.set(xlabel='predict', ylabel='true')\n",
    "pred2 = accuracy_score(Y_test,pred_n5)\n",
    "print(\"KNN5 accuracy score: \",pred2*100)"
   ]
  },
  {
   "cell_type": "markdown",
   "id": "improving-neighborhood",
   "metadata": {},
   "source": [
    "## model evaluation metrics such as accuracy, precision, and recall"
   ]
  },
  {
   "cell_type": "code",
   "execution_count": 49,
   "id": "swiss-glossary",
   "metadata": {},
   "outputs": [
    {
     "name": "stdout",
     "output_type": "stream",
     "text": [
      "              precision    recall  f1-score   support\n",
      "\n",
      "           0       0.94      0.90      0.92        51\n",
      "           1       0.91      0.94      0.92        51\n",
      "\n",
      "    accuracy                           0.92       102\n",
      "   macro avg       0.92      0.92      0.92       102\n",
      "weighted avg       0.92      0.92      0.92       102\n",
      "\n"
     ]
    }
   ],
   "source": [
    "rf = RandomForestClassifier()\n",
    "rf.fit(X_train, Y_train)\n",
    "pred_rf = rf.predict(X_test)\n",
    "print(classification_report(Y_test, pred_rf))"
   ]
  },
  {
   "cell_type": "code",
   "execution_count": 50,
   "id": "funded-attitude",
   "metadata": {},
   "outputs": [
    {
     "data": {
      "text/plain": [
       "array([[46,  5],\n",
       "       [ 3, 48]])"
      ]
     },
     "execution_count": 50,
     "metadata": {},
     "output_type": "execute_result"
    }
   ],
   "source": [
    "y_predicted = rf.predict(X_test)\n",
    "from sklearn.metrics import confusion_matrix\n",
    "cm = confusion_matrix(Y_test, y_predicted)\n",
    "cm"
   ]
  },
  {
   "cell_type": "code",
   "execution_count": 51,
   "id": "headed-stability",
   "metadata": {},
   "outputs": [
    {
     "data": {
      "text/plain": [
       "0.9215686274509803"
      ]
     },
     "execution_count": 51,
     "metadata": {},
     "output_type": "execute_result"
    }
   ],
   "source": [
    "rf.score(X_test,Y_test)"
   ]
  },
  {
   "cell_type": "markdown",
   "id": "sudden-overall",
   "metadata": {},
   "source": [
    "## confusion matrix using Heat map "
   ]
  },
  {
   "cell_type": "code",
   "execution_count": 52,
   "id": "organized-stranger",
   "metadata": {},
   "outputs": [
    {
     "name": "stdout",
     "output_type": "stream",
     "text": [
      "Random Forest accuracy score:  92.15686274509804\n"
     ]
    },
    {
     "data": {
      "image/png": "[encoded data removed]",
      "text/plain": [
       "<Figure size 432x288 with 2 Axes>"
      ]
     },
     "metadata": {
      "needs_background": "light"
     },
     "output_type": "display_data"
    }
   ],
   "source": [
    "cm2 = confusion_matrix(Y_test,pred_rf)\n",
    "ax2 = seabornInstance.heatmap(cm2,annot=True)\n",
    "ax2.set(xlabel='predict', ylabel='true')\n",
    "pred2 = accuracy_score(Y_test,pred_rf)\n",
    "print(\"Random Forest accuracy score: \",pred2*100)"
   ]
  },
  {
   "cell_type": "markdown",
   "id": "mature-prague",
   "metadata": {},
   "source": [
    "## model evaluation metrics such as accuracy, precision, and recall"
   ]
  },
  {
   "cell_type": "code",
   "execution_count": 53,
   "id": "tender-blackberry",
   "metadata": {},
   "outputs": [
    {
     "name": "stdout",
     "output_type": "stream",
     "text": [
      "              precision    recall  f1-score   support\n",
      "\n",
      "           0       0.86      0.84      0.85        51\n",
      "           1       0.85      0.86      0.85        51\n",
      "\n",
      "    accuracy                           0.85       102\n",
      "   macro avg       0.85      0.85      0.85       102\n",
      "weighted avg       0.85      0.85      0.85       102\n",
      "\n"
     ]
    }
   ],
   "source": [
    "dt = DecisionTreeClassifier()\n",
    "dt.fit(X_train, Y_train)\n",
    "pred_dt = dt.predict(X_test)\n",
    "print(classification_report(Y_test, pred_dt))"
   ]
  },
  {
   "cell_type": "code",
   "execution_count": 54,
   "id": "natural-direction",
   "metadata": {},
   "outputs": [
    {
     "data": {
      "text/plain": [
       "array([[43,  8],\n",
       "       [ 7, 44]])"
      ]
     },
     "execution_count": 54,
     "metadata": {},
     "output_type": "execute_result"
    }
   ],
   "source": [
    "\n",
    "y_predicted = dt.predict(X_test)\n",
    "from sklearn.metrics import confusion_matrix\n",
    "cm = confusion_matrix(Y_test, y_predicted)\n",
    "cm"
   ]
  },
  {
   "cell_type": "code",
   "execution_count": 55,
   "id": "loaded-danger",
   "metadata": {},
   "outputs": [
    {
     "data": {
      "text/plain": [
       "0.8529411764705882"
      ]
     },
     "execution_count": 55,
     "metadata": {},
     "output_type": "execute_result"
    }
   ],
   "source": [
    "dt.score(X_test,Y_test)"
   ]
  },
  {
   "cell_type": "markdown",
   "id": "regional-cooperation",
   "metadata": {},
   "source": [
    "## confusion matrix using Heat map "
   ]
  },
  {
   "cell_type": "code",
   "execution_count": 56,
   "id": "german-memorial",
   "metadata": {},
   "outputs": [
    {
     "name": "stdout",
     "output_type": "stream",
     "text": [
      "Decision Tree accuracy score:  85.29411764705883\n"
     ]
    },
    {
     "data": {
      "image/png": "[encoded data removed]",
      "text/plain": [
       "<Figure size 432x288 with 2 Axes>"
      ]
     },
     "metadata": {
      "needs_background": "light"
     },
     "output_type": "display_data"
    }
   ],
   "source": [
    "cm2 = confusion_matrix(Y_test,pred_dt)\n",
    "ax2 = seabornInstance.heatmap(cm2,annot=True)\n",
    "ax2.set(xlabel='predict', ylabel='true')\n",
    "pred2 = accuracy_score(Y_test,pred_dt)\n",
    "print(\"Decision Tree accuracy score: \",pred2*100)"
   ]
  },
  {
   "cell_type": "code",
   "execution_count": 57,
   "id": "taken-bracket",
   "metadata": {},
   "outputs": [],
   "source": [
    "LR = LogisticRegression().fit(X_train,Y_train)"
   ]
  },
  {
   "cell_type": "markdown",
   "id": "mature-steps",
   "metadata": {},
   "source": [
    "## confusion matrix using Heat map "
   ]
  },
  {
   "cell_type": "code",
   "execution_count": 58,
   "id": "faced-paragraph",
   "metadata": {},
   "outputs": [
    {
     "name": "stdout",
     "output_type": "stream",
     "text": [
      "logistic regression accuracy score:  50.0\n"
     ]
    },
    {
     "data": {
      "image/png": "[encoded data removed]",
      "text/plain": [
       "<Figure size 432x288 with 2 Axes>"
      ]
     },
     "metadata": {
      "needs_background": "light"
     },
     "output_type": "display_data"
    }
   ],
   "source": [
    "pred_LR = LR.predict(X_test)\n",
    "cm2 = confusion_matrix(Y_test,pred_LR)\n",
    "ax2 = seabornInstance.heatmap(cm2,annot=True)\n",
    "ax2.set(xlabel='predict', ylabel='true')\n",
    "pred2 = accuracy_score(Y_test,pred_LR)\n",
    "print(\"logistic regression accuracy score: \",pred2*100)"
   ]
  },
  {
   "cell_type": "code",
   "execution_count": 59,
   "id": "congressional-photographer",
   "metadata": {},
   "outputs": [
    {
     "data": {
      "text/plain": [
       "0.5"
      ]
     },
     "execution_count": 59,
     "metadata": {},
     "output_type": "execute_result"
    }
   ],
   "source": [
    "LR.score(X_test,Y_test)"
   ]
  },
  {
   "cell_type": "code",
   "execution_count": 60,
   "id": "industrial-gilbert",
   "metadata": {},
   "outputs": [
    {
     "data": {
      "text/html": [
       "<div>\n",
       "<style scoped>\n",
       "    .dataframe tbody tr th:only-of-type {\n",
       "        vertical-align: middle;\n",
       "    }\n",
       "\n",
       "    .dataframe tbody tr th {\n",
       "        vertical-align: top;\n",
       "    }\n",
       "\n",
       "    .dataframe thead th {\n",
       "        text-align: right;\n",
       "    }\n",
       "</style>\n",
       "<table border=\"1\" class=\"dataframe\">\n",
       "  <thead>\n",
       "    <tr style=\"text-align: right;\">\n",
       "      <th></th>\n",
       "      <th>Actual</th>\n",
       "      <th>Predicted</th>\n",
       "    </tr>\n",
       "  </thead>\n",
       "  <tbody>\n",
       "    <tr>\n",
       "      <th>0</th>\n",
       "      <td>0</td>\n",
       "      <td>0</td>\n",
       "    </tr>\n",
       "    <tr>\n",
       "      <th>1</th>\n",
       "      <td>1</td>\n",
       "      <td>1</td>\n",
       "    </tr>\n",
       "    <tr>\n",
       "      <th>2</th>\n",
       "      <td>0</td>\n",
       "      <td>0</td>\n",
       "    </tr>\n",
       "    <tr>\n",
       "      <th>3</th>\n",
       "      <td>0</td>\n",
       "      <td>0</td>\n",
       "    </tr>\n",
       "    <tr>\n",
       "      <th>4</th>\n",
       "      <td>0</td>\n",
       "      <td>0</td>\n",
       "    </tr>\n",
       "    <tr>\n",
       "      <th>...</th>\n",
       "      <td>...</td>\n",
       "      <td>...</td>\n",
       "    </tr>\n",
       "    <tr>\n",
       "      <th>97</th>\n",
       "      <td>1</td>\n",
       "      <td>1</td>\n",
       "    </tr>\n",
       "    <tr>\n",
       "      <th>98</th>\n",
       "      <td>1</td>\n",
       "      <td>1</td>\n",
       "    </tr>\n",
       "    <tr>\n",
       "      <th>99</th>\n",
       "      <td>1</td>\n",
       "      <td>0</td>\n",
       "    </tr>\n",
       "    <tr>\n",
       "      <th>100</th>\n",
       "      <td>1</td>\n",
       "      <td>1</td>\n",
       "    </tr>\n",
       "    <tr>\n",
       "      <th>101</th>\n",
       "      <td>1</td>\n",
       "      <td>1</td>\n",
       "    </tr>\n",
       "  </tbody>\n",
       "</table>\n",
       "<p>102 rows × 2 columns</p>\n",
       "</div>"
      ],
      "text/plain": [
       "     Actual  Predicted\n",
       "0         0          0\n",
       "1         1          1\n",
       "2         0          0\n",
       "3         0          0\n",
       "4         0          0\n",
       "..      ...        ...\n",
       "97        1          1\n",
       "98        1          1\n",
       "99        1          0\n",
       "100       1          1\n",
       "101       1          1\n",
       "\n",
       "[102 rows x 2 columns]"
      ]
     },
     "execution_count": 60,
     "metadata": {},
     "output_type": "execute_result"
    }
   ],
   "source": [
    "### Random Forest Data Comparison\n",
    "z=Y_test.to_numpy()\n",
    "z\n",
    "compar = pd.DataFrame({'Actual': z.flatten(), 'Predicted': y_predicted.flatten()})\n",
    "compar"
   ]
  },
  {
   "cell_type": "code",
   "execution_count": 61,
   "id": "fiscal-catalog",
   "metadata": {},
   "outputs": [
    {
     "data": {
      "image/png": "[encoded data removed]",
      "text/plain": [
       "<Figure size 1152x720 with 1 Axes>"
      ]
     },
     "metadata": {
      "needs_background": "light"
     },
     "output_type": "display_data"
    }
   ],
   "source": [
    "df1 = compar.head(25)\n",
    "df1.plot(kind='bar',figsize=(16,10))\n",
    "plt.grid(which='major', linestyle='-', linewidth='0.5', color='green')\n",
    "plt.grid(which='minor', linestyle=':', linewidth='0.5', color='black')\n",
    "plt.show()"
   ]
  },
  {
   "cell_type": "code",
   "execution_count": 62,
   "id": "voluntary-record",
   "metadata": {},
   "outputs": [],
   "source": [
    "# predict probabilities\n",
    "pred_prob1 = n3.predict_proba(X_test)\n",
    "pred_prob2 = n5.predict_proba(X_test)\n",
    "pred_prob3 = rf.predict_proba(X_test)\n",
    "pred_prob4 = dt.predict_proba(X_test)\n",
    "pred_prob5 = LR.predict_proba(X_test)\n",
    "from sklearn.metrics import roc_curve\n",
    "\n",
    "# roc curve for models\n",
    "fpr1, tpr1, thresh1 = roc_curve(Y_test, pred_prob1[:,1], pos_label=1)\n",
    "fpr2, tpr2, thresh2 = roc_curve(Y_test, pred_prob2[:,1], pos_label=1)\n",
    "fpr3, tpr3, thresh3 = roc_curve(Y_test, pred_prob3[:,1], pos_label=1)\n",
    "fpr4, tpr4, thresh4 = roc_curve(Y_test, pred_prob4[:,1], pos_label=1)\n",
    "fpr5, tpr5, thresh5 = roc_curve(Y_test, pred_prob5[:,1], pos_label=1)\n",
    "\n",
    "# roc curve for tpr = fpr \n",
    "random_probs = [0 for i in range(len(Y_test))]\n",
    "p_fpr, p_tpr, _ = roc_curve(Y_test, random_probs, pos_label=1)"
   ]
  },
  {
   "cell_type": "code",
   "execution_count": 63,
   "id": "economic-finger",
   "metadata": {},
   "outputs": [
    {
     "name": "stdout",
     "output_type": "stream",
     "text": [
      "0.9267589388696655 0.9238754325259516 0.9928873510188388 0.8529411764705882 0.4790465205690119\n"
     ]
    }
   ],
   "source": [
    "from sklearn.metrics import roc_auc_score\n",
    "\n",
    "# auc scores\n",
    "auc_score1 = roc_auc_score(Y_test, pred_prob1[:,1])\n",
    "auc_score2 = roc_auc_score(Y_test, pred_prob2[:,1])\n",
    "auc_score3 = roc_auc_score(Y_test, pred_prob3[:,1])\n",
    "auc_score4 = roc_auc_score(Y_test, pred_prob4[:,1])\n",
    "auc_score5 = roc_auc_score(Y_test, pred_prob5[:,1])\n",
    "\n",
    "print(auc_score1, auc_score2, auc_score3, auc_score4, auc_score5)"
   ]
  },
  {
   "cell_type": "markdown",
   "id": "raising-diana",
   "metadata": {},
   "source": [
    "## ROC Curve"
   ]
  },
  {
   "cell_type": "code",
   "execution_count": 64,
   "id": "paperback-pressing",
   "metadata": {},
   "outputs": [
    {
     "data": {
      "image/png": "[encoded data removed]",
      "text/plain": [
       "<Figure size 576x396 with 1 Axes>"
      ]
     },
     "metadata": {},
     "output_type": "display_data"
    }
   ],
   "source": [
    "# matplotlib\n",
    "import matplotlib.pyplot as plt\n",
    "plt.style.use('seaborn')\n",
    "\n",
    "# plot roc curves\n",
    "plt.plot(fpr1, tpr1, linestyle='--',color='orange', label='KNN3')\n",
    "plt.plot(fpr2, tpr2, linestyle='--',color='green', label='KNN5')\n",
    "plt.plot(fpr3, tpr3, linestyle='--',color='red', label='Random Forest')\n",
    "plt.plot(fpr4, tpr4, linestyle='--',color='black', label='Decision Tree')\n",
    "plt.plot(fpr5, tpr5, linestyle='--',color='yellow', label='Logistic Regression')\n",
    "plt.plot(p_fpr, p_tpr, linestyle='--', color='blue')\n",
    "# title\n",
    "plt.title('ROC curve')\n",
    "# x label\n",
    "plt.xlabel('False Positive Rate')\n",
    "# y label\n",
    "plt.ylabel('True Positive rate')\n",
    "\n",
    "plt.legend(loc='best')\n",
    "plt.savefig('ROC',dpi=300)\n",
    "plt.show();"
   ]
  },
  {
   "cell_type": "code",
   "execution_count": null,
   "id": "ahead-cancer",
   "metadata": {},
   "outputs": [],
   "source": []
  }
 ],
 "metadata": {
  "kernelspec": {
   "display_name": "Python 3",
   "language": "python",
   "name": "python3"
  },
  "language_info": {
   "codemirror_mode": {
    "name": "ipython",
    "version": 3
   },
   "file_extension": ".py",
   "mimetype": "text/x-python",
   "name": "python",
   "nbconvert_exporter": "python",
   "pygments_lexer": "ipython3",
   "version": "3.8.8"
  }
 },
 "nbformat": 4,
 "nbformat_minor": 5
}
